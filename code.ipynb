{
  "cells": [
    {
      "cell_type": "markdown",
      "metadata": {
        "id": "DbHdVfzKxd4n"
      },
      "source": [
        "#Libraries\n",
        "------\n",
        "-------------"
      ]
    },
    {
      "cell_type": "code",
      "execution_count": null,
      "metadata": {
        "id": "M5t5FhUxiG2W"
      },
      "outputs": [],
      "source": [
        "!pip install transformers[torch]\n",
        "!pip install datasets\n",
        "!pip install nltk\n",
        "\n",
        "\n",
        "from datasets import Dataset, DatasetDict\n",
        "from sklearn.model_selection import train_test_split\n",
        "from transformers import AutoTokenizer\n",
        "from transformers import AutoModelForSequenceClassification\n",
        "import torch\n",
        "from sklearn.metrics import accuracy_score, f1_score, precision_score, recall_score\n",
        "from transformers import Trainer, TrainingArguments\n",
        "\n",
        "import pandas as pd\n",
        "import nltk\n",
        "from nltk.corpus import stopwords\n",
        "from nltk.stem import WordNetLemmatizer\n",
        "\n",
        "# the following code ensures that you can see your (print) results for multiple tasks within a coding block\n",
        "from IPython.core.interactiveshell import InteractiveShell\n",
        "InteractiveShell.ast_node_interactivity = \"all\""
      ]
    },
    {
      "cell_type": "markdown",
      "metadata": {
        "id": "VsnZ_Gm4tAmu"
      },
      "source": [
        "# read the data and preprocessing\n",
        "--------\n",
        "----------\n",
        "==> at this part i used wordnet lemmatizer from NLTK as a preprocessing step to standarize the text words in addition arabic stop words to make the model cares with words only\n",
        "\n",
        "\n",
        "==> it was observed that the data records were ordered (positive,mixed,negative)\n",
        "respectively there for I shuffled the records to prevent the model from save the pattern and over fit\n",
        "\n",
        "==> after performing lemmatizer and removing stop words it was found that 109 records were duplicated therefor they were dropped\n",
        "\n",
        "\n",
        "==> after that the data was divided into train and dev data (80%,20%) respectively then converted to hugging face datasets format"
      ]
    },
    {
      "cell_type": "code",
      "execution_count": null,
      "metadata": {
        "id": "H7JTbZlDX611",
        "outputId": "b2c4ed33-3823-4e3e-95cf-163f07d1f3ad"
      },
      "outputs": [
        {
          "name": "stderr",
          "output_type": "stream",
          "text": [
            "[nltk_data] Downloading package punkt to /home/jovyan/nltk_data...\n",
            "[nltk_data]   Package punkt is already up-to-date!\n"
          ]
        },
        {
          "data": {
            "text/plain": [
              "True"
            ]
          },
          "execution_count": 2,
          "metadata": {},
          "output_type": "execute_result"
        },
        {
          "name": "stderr",
          "output_type": "stream",
          "text": [
            "[nltk_data] Downloading package stopwords to /home/jovyan/nltk_data...\n",
            "[nltk_data]   Package stopwords is already up-to-date!\n"
          ]
        },
        {
          "data": {
            "text/plain": [
              "True"
            ]
          },
          "execution_count": 2,
          "metadata": {},
          "output_type": "execute_result"
        },
        {
          "name": "stderr",
          "output_type": "stream",
          "text": [
            "[nltk_data] Downloading package wordnet to /home/jovyan/nltk_data...\n",
            "[nltk_data]   Package wordnet is already up-to-date!\n"
          ]
        },
        {
          "data": {
            "text/plain": [
              "True"
            ]
          },
          "execution_count": 2,
          "metadata": {},
          "output_type": "execute_result"
        }
      ],
      "source": [
        "# Download NLTK resources\n",
        "nltk.download('punkt')\n",
        "nltk.download('stopwords')\n",
        "nltk.download('wordnet')"
      ]
    },
    {
      "cell_type": "code",
      "execution_count": null,
      "metadata": {
        "id": "I_ySTsbEMqv0"
      },
      "outputs": [],
      "source": [
        "# load lemmatizer\n",
        "lemmatizer = WordNetLemmatizer()\n",
        "\n",
        "# Get a set of stop words for Arabic from NLTK\n",
        "stop_words = set(stopwords.words('arabic'))"
      ]
    },
    {
      "cell_type": "code",
      "execution_count": null,
      "metadata": {
        "id": "xreEpVy6MsaW"
      },
      "outputs": [],
      "source": [
        "# define a function for preprocessing and remove stop words\n",
        "def preprocess_text(text):\n",
        "    words = nltk.word_tokenize(text)\n",
        "    words = [lemmatizer.lemmatize(word) for word in words if word.isalnum() and word.lower() not in stop_words]\n",
        "    return ' '.join(words)"
      ]
    },
    {
      "cell_type": "code",
      "execution_count": null,
      "metadata": {
        "colab": {
          "base_uri": "https://localhost:8080/",
          "height": 441
        },
        "id": "13IBoN0LjV8m",
        "outputId": "5f8b006c-67ca-4a2f-9955-b82dafbb5696"
      },
      "outputs": [
        {
          "data": {
            "text/plain": [
              "(99999, 2)"
            ]
          },
          "execution_count": 5,
          "metadata": {},
          "output_type": "execute_result"
        },
        {
          "data": {
            "text/html": [
              "<div>\n",
              "<style scoped>\n",
              "    .dataframe tbody tr th:only-of-type {\n",
              "        vertical-align: middle;\n",
              "    }\n",
              "\n",
              "    .dataframe tbody tr th {\n",
              "        vertical-align: top;\n",
              "    }\n",
              "\n",
              "    .dataframe thead th {\n",
              "        text-align: right;\n",
              "    }\n",
              "</style>\n",
              "<table border=\"1\" class=\"dataframe\">\n",
              "  <thead>\n",
              "    <tr style=\"text-align: right;\">\n",
              "      <th></th>\n",
              "      <th>label</th>\n",
              "      <th>text</th>\n",
              "    </tr>\n",
              "  </thead>\n",
              "  <tbody>\n",
              "    <tr>\n",
              "      <th>0</th>\n",
              "      <td>Positive</td>\n",
              "      <td>ممتاز نوعا ما . النظافة والموقع والتجهيز والشا...</td>\n",
              "    </tr>\n",
              "    <tr>\n",
              "      <th>1</th>\n",
              "      <td>Positive</td>\n",
              "      <td>أحد أسباب نجاح الإمارات أن كل شخص في هذه الدول...</td>\n",
              "    </tr>\n",
              "    <tr>\n",
              "      <th>2</th>\n",
              "      <td>Positive</td>\n",
              "      <td>هادفة .. وقوية. تنقلك من صخب شوارع القاهرة الى...</td>\n",
              "    </tr>\n",
              "    <tr>\n",
              "      <th>3</th>\n",
              "      <td>Positive</td>\n",
              "      <td>خلصنا .. مبدئيا اللي مستني ابهار زي الفيل الاز...</td>\n",
              "    </tr>\n",
              "    <tr>\n",
              "      <th>4</th>\n",
              "      <td>Positive</td>\n",
              "      <td>ياسات جلوريا جزء لا يتجزأ من دبي . فندق متكامل...</td>\n",
              "    </tr>\n",
              "    <tr>\n",
              "      <th>...</th>\n",
              "      <td>...</td>\n",
              "      <td>...</td>\n",
              "    </tr>\n",
              "    <tr>\n",
              "      <th>99994</th>\n",
              "      <td>Negative</td>\n",
              "      <td>معرفش ليه كنت عاوزة أكملها وهي مش عاجباني من ا...</td>\n",
              "    </tr>\n",
              "    <tr>\n",
              "      <th>99995</th>\n",
              "      <td>Negative</td>\n",
              "      <td>لا يستحق ان يكون في بوكنق لانه سيئ . لا شي. لا...</td>\n",
              "    </tr>\n",
              "    <tr>\n",
              "      <th>99996</th>\n",
              "      <td>Negative</td>\n",
              "      <td>كتاب ضعيف جدا ولم استمتع به. فى كل قصه سرد لحا...</td>\n",
              "    </tr>\n",
              "    <tr>\n",
              "      <th>99997</th>\n",
              "      <td>Negative</td>\n",
              "      <td>مملة جدا. محمد حسن علوان فنان بالكلمات، والوصف...</td>\n",
              "    </tr>\n",
              "    <tr>\n",
              "      <th>99998</th>\n",
              "      <td>Negative</td>\n",
              "      <td>لن ارجع إليه مرة اخرى . قربه من البحر. المكان ...</td>\n",
              "    </tr>\n",
              "  </tbody>\n",
              "</table>\n",
              "<p>99999 rows × 2 columns</p>\n",
              "</div>"
            ],
            "text/plain": [
              "          label                                               text\n",
              "0      Positive  ممتاز نوعا ما . النظافة والموقع والتجهيز والشا...\n",
              "1      Positive  أحد أسباب نجاح الإمارات أن كل شخص في هذه الدول...\n",
              "2      Positive  هادفة .. وقوية. تنقلك من صخب شوارع القاهرة الى...\n",
              "3      Positive  خلصنا .. مبدئيا اللي مستني ابهار زي الفيل الاز...\n",
              "4      Positive  ياسات جلوريا جزء لا يتجزأ من دبي . فندق متكامل...\n",
              "...         ...                                                ...\n",
              "99994  Negative  معرفش ليه كنت عاوزة أكملها وهي مش عاجباني من ا...\n",
              "99995  Negative  لا يستحق ان يكون في بوكنق لانه سيئ . لا شي. لا...\n",
              "99996  Negative  كتاب ضعيف جدا ولم استمتع به. فى كل قصه سرد لحا...\n",
              "99997  Negative  مملة جدا. محمد حسن علوان فنان بالكلمات، والوصف...\n",
              "99998  Negative  لن ارجع إليه مرة اخرى . قربه من البحر. المكان ...\n",
              "\n",
              "[99999 rows x 2 columns]"
            ]
          },
          "execution_count": 5,
          "metadata": {},
          "output_type": "execute_result"
        }
      ],
      "source": [
        "# read data\n",
        "data = pd.read_csv('ar_reviews_100k.tsv', sep='\\t')\n",
        "\n",
        "# print data dimension\n",
        "data.shape\n",
        "\n",
        "# data overview\n",
        "data"
      ]
    },
    {
      "cell_type": "code",
      "execution_count": null,
      "metadata": {
        "colab": {
          "base_uri": "https://localhost:8080/",
          "height": 499
        },
        "id": "G0IujEBLrzjW",
        "outputId": "291384b2-29c5-412a-f161-d86002f81bfa"
      },
      "outputs": [
        {
          "data": {
            "text/plain": [
              "label\n",
              "Positive    33333\n",
              "Mixed       33333\n",
              "Negative    33333\n",
              "Name: count, dtype: int64"
            ]
          },
          "execution_count": 6,
          "metadata": {},
          "output_type": "execute_result"
        },
        {
          "data": {
            "text/plain": [
              "<Axes: >"
            ]
          },
          "execution_count": 6,
          "metadata": {},
          "output_type": "execute_result"
        },
        {
          "data": {
            "image/png": "[encoded data removed]",
            "text/plain": [
              "<Figure size 640x480 with 1 Axes>"
            ]
          },
          "metadata": {},
          "output_type": "display_data"
        }
      ],
      "source": [
        "# print num of saamples in each class to chech the unbalance\n",
        "data['label'].value_counts()\n",
        "\n",
        "# using histgram to chech the unbalance\n",
        "data['label'].hist()"
      ]
    },
    {
      "cell_type": "code",
      "execution_count": null,
      "metadata": {
        "colab": {
          "base_uri": "https://localhost:8080/",
          "height": 423
        },
        "id": "L33xsRrPT1Vd",
        "outputId": "1aa0477e-3983-4cfa-fc26-da72e5cae22a"
      },
      "outputs": [
        {
          "data": {
            "text/html": [
              "<div>\n",
              "<style scoped>\n",
              "    .dataframe tbody tr th:only-of-type {\n",
              "        vertical-align: middle;\n",
              "    }\n",
              "\n",
              "    .dataframe tbody tr th {\n",
              "        vertical-align: top;\n",
              "    }\n",
              "\n",
              "    .dataframe thead th {\n",
              "        text-align: right;\n",
              "    }\n",
              "</style>\n",
              "<table border=\"1\" class=\"dataframe\">\n",
              "  <thead>\n",
              "    <tr style=\"text-align: right;\">\n",
              "      <th></th>\n",
              "      <th>label</th>\n",
              "      <th>text</th>\n",
              "    </tr>\n",
              "  </thead>\n",
              "  <tbody>\n",
              "    <tr>\n",
              "      <th>0</th>\n",
              "      <td>0</td>\n",
              "      <td>ممتاز نوعا ما . النظافة والموقع والتجهيز والشا...</td>\n",
              "    </tr>\n",
              "    <tr>\n",
              "      <th>1</th>\n",
              "      <td>0</td>\n",
              "      <td>أحد أسباب نجاح الإمارات أن كل شخص في هذه الدول...</td>\n",
              "    </tr>\n",
              "    <tr>\n",
              "      <th>2</th>\n",
              "      <td>0</td>\n",
              "      <td>هادفة .. وقوية. تنقلك من صخب شوارع القاهرة الى...</td>\n",
              "    </tr>\n",
              "    <tr>\n",
              "      <th>3</th>\n",
              "      <td>0</td>\n",
              "      <td>خلصنا .. مبدئيا اللي مستني ابهار زي الفيل الاز...</td>\n",
              "    </tr>\n",
              "    <tr>\n",
              "      <th>4</th>\n",
              "      <td>0</td>\n",
              "      <td>ياسات جلوريا جزء لا يتجزأ من دبي . فندق متكامل...</td>\n",
              "    </tr>\n",
              "    <tr>\n",
              "      <th>...</th>\n",
              "      <td>...</td>\n",
              "      <td>...</td>\n",
              "    </tr>\n",
              "    <tr>\n",
              "      <th>99994</th>\n",
              "      <td>2</td>\n",
              "      <td>معرفش ليه كنت عاوزة أكملها وهي مش عاجباني من ا...</td>\n",
              "    </tr>\n",
              "    <tr>\n",
              "      <th>99995</th>\n",
              "      <td>2</td>\n",
              "      <td>لا يستحق ان يكون في بوكنق لانه سيئ . لا شي. لا...</td>\n",
              "    </tr>\n",
              "    <tr>\n",
              "      <th>99996</th>\n",
              "      <td>2</td>\n",
              "      <td>كتاب ضعيف جدا ولم استمتع به. فى كل قصه سرد لحا...</td>\n",
              "    </tr>\n",
              "    <tr>\n",
              "      <th>99997</th>\n",
              "      <td>2</td>\n",
              "      <td>مملة جدا. محمد حسن علوان فنان بالكلمات، والوصف...</td>\n",
              "    </tr>\n",
              "    <tr>\n",
              "      <th>99998</th>\n",
              "      <td>2</td>\n",
              "      <td>لن ارجع إليه مرة اخرى . قربه من البحر. المكان ...</td>\n",
              "    </tr>\n",
              "  </tbody>\n",
              "</table>\n",
              "<p>99999 rows × 2 columns</p>\n",
              "</div>"
            ],
            "text/plain": [
              "       label                                               text\n",
              "0          0  ممتاز نوعا ما . النظافة والموقع والتجهيز والشا...\n",
              "1          0  أحد أسباب نجاح الإمارات أن كل شخص في هذه الدول...\n",
              "2          0  هادفة .. وقوية. تنقلك من صخب شوارع القاهرة الى...\n",
              "3          0  خلصنا .. مبدئيا اللي مستني ابهار زي الفيل الاز...\n",
              "4          0  ياسات جلوريا جزء لا يتجزأ من دبي . فندق متكامل...\n",
              "...      ...                                                ...\n",
              "99994      2  معرفش ليه كنت عاوزة أكملها وهي مش عاجباني من ا...\n",
              "99995      2  لا يستحق ان يكون في بوكنق لانه سيئ . لا شي. لا...\n",
              "99996      2  كتاب ضعيف جدا ولم استمتع به. فى كل قصه سرد لحا...\n",
              "99997      2  مملة جدا. محمد حسن علوان فنان بالكلمات، والوصف...\n",
              "99998      2  لن ارجع إليه مرة اخرى . قربه من البحر. المكان ...\n",
              "\n",
              "[99999 rows x 2 columns]"
            ]
          },
          "execution_count": 7,
          "metadata": {},
          "output_type": "execute_result"
        }
      ],
      "source": [
        "# encode the label for each class\n",
        "label_mapping = {\"Positive\": 0, \"Mixed\": 1, \"Negative\": 2}\n",
        "data[\"label\"] = [label_mapping[label] for label in data['label'].tolist()]\n",
        "data"
      ]
    },
    {
      "cell_type": "code",
      "execution_count": null,
      "metadata": {
        "colab": {
          "base_uri": "https://localhost:8080/",
          "height": 423
        },
        "id": "yvmXKHSVM6gt",
        "outputId": "3d26396c-e8d8-4288-993b-4e6d7e80a3ae"
      },
      "outputs": [
        {
          "data": {
            "text/html": [
              "<div>\n",
              "<style scoped>\n",
              "    .dataframe tbody tr th:only-of-type {\n",
              "        vertical-align: middle;\n",
              "    }\n",
              "\n",
              "    .dataframe tbody tr th {\n",
              "        vertical-align: top;\n",
              "    }\n",
              "\n",
              "    .dataframe thead th {\n",
              "        text-align: right;\n",
              "    }\n",
              "</style>\n",
              "<table border=\"1\" class=\"dataframe\">\n",
              "  <thead>\n",
              "    <tr style=\"text-align: right;\">\n",
              "      <th></th>\n",
              "      <th>label</th>\n",
              "      <th>text</th>\n",
              "    </tr>\n",
              "  </thead>\n",
              "  <tbody>\n",
              "    <tr>\n",
              "      <th>0</th>\n",
              "      <td>0</td>\n",
              "      <td>ممتاز نوعا النظافة والموقع والتجهيز والشاطيء ا...</td>\n",
              "    </tr>\n",
              "    <tr>\n",
              "      <th>1</th>\n",
              "      <td>0</td>\n",
              "      <td>أسباب نجاح الإمارات شخص الدولة يعشق ترابها نحب...</td>\n",
              "    </tr>\n",
              "    <tr>\n",
              "      <th>2</th>\n",
              "      <td>0</td>\n",
              "      <td>هادفة وقوية تنقلك صخب شوارع القاهرة الى هدوء ج...</td>\n",
              "    </tr>\n",
              "    <tr>\n",
              "      <th>3</th>\n",
              "      <td>0</td>\n",
              "      <td>خلصنا مبدئيا اللي مستني ابهار زي الفيل الازرق ...</td>\n",
              "    </tr>\n",
              "    <tr>\n",
              "      <th>4</th>\n",
              "      <td>0</td>\n",
              "      <td>ياسات جلوريا جزء يتجزأ دبي فندق متكامل الخدمات...</td>\n",
              "    </tr>\n",
              "    <tr>\n",
              "      <th>...</th>\n",
              "      <td>...</td>\n",
              "      <td>...</td>\n",
              "    </tr>\n",
              "    <tr>\n",
              "      <th>99994</th>\n",
              "      <td>2</td>\n",
              "      <td>معرفش ليه كنت عاوزة أكملها وهي مش عاجباني البد...</td>\n",
              "    </tr>\n",
              "    <tr>\n",
              "      <th>99995</th>\n",
              "      <td>2</td>\n",
              "      <td>يستحق ان يكون بوكنق لانه سيئ شي يوجد خدمة افطا...</td>\n",
              "    </tr>\n",
              "    <tr>\n",
              "      <th>99996</th>\n",
              "      <td>2</td>\n",
              "      <td>كتاب ضعيف جدا ولم استمتع فى قصه سرد لحاله مشهد...</td>\n",
              "    </tr>\n",
              "    <tr>\n",
              "      <th>99997</th>\n",
              "      <td>2</td>\n",
              "      <td>مملة جدا محمد حسن علوان فنان والوصف عندة دقيق ...</td>\n",
              "    </tr>\n",
              "    <tr>\n",
              "      <th>99998</th>\n",
              "      <td>2</td>\n",
              "      <td>ارجع إليه مرة اخرى قربه البحر المكان قديم توجد...</td>\n",
              "    </tr>\n",
              "  </tbody>\n",
              "</table>\n",
              "<p>99999 rows × 2 columns</p>\n",
              "</div>"
            ],
            "text/plain": [
              "       label                                               text\n",
              "0          0  ممتاز نوعا النظافة والموقع والتجهيز والشاطيء ا...\n",
              "1          0  أسباب نجاح الإمارات شخص الدولة يعشق ترابها نحب...\n",
              "2          0  هادفة وقوية تنقلك صخب شوارع القاهرة الى هدوء ج...\n",
              "3          0  خلصنا مبدئيا اللي مستني ابهار زي الفيل الازرق ...\n",
              "4          0  ياسات جلوريا جزء يتجزأ دبي فندق متكامل الخدمات...\n",
              "...      ...                                                ...\n",
              "99994      2  معرفش ليه كنت عاوزة أكملها وهي مش عاجباني البد...\n",
              "99995      2  يستحق ان يكون بوكنق لانه سيئ شي يوجد خدمة افطا...\n",
              "99996      2  كتاب ضعيف جدا ولم استمتع فى قصه سرد لحاله مشهد...\n",
              "99997      2  مملة جدا محمد حسن علوان فنان والوصف عندة دقيق ...\n",
              "99998      2  ارجع إليه مرة اخرى قربه البحر المكان قديم توجد...\n",
              "\n",
              "[99999 rows x 2 columns]"
            ]
          },
          "execution_count": 8,
          "metadata": {},
          "output_type": "execute_result"
        }
      ],
      "source": [
        "# perform the preprocess_text function on the text\n",
        "data['text'] = data['text'].apply(preprocess_text)\n",
        "data"
      ]
    },
    {
      "cell_type": "code",
      "execution_count": null,
      "metadata": {
        "colab": {
          "base_uri": "https://localhost:8080/",
          "height": 423
        },
        "id": "5ZeJxZSxJtbo",
        "outputId": "a0e37d64-3413-46f9-bb61-6bb78b693846"
      },
      "outputs": [
        {
          "data": {
            "text/html": [
              "<div>\n",
              "<style scoped>\n",
              "    .dataframe tbody tr th:only-of-type {\n",
              "        vertical-align: middle;\n",
              "    }\n",
              "\n",
              "    .dataframe tbody tr th {\n",
              "        vertical-align: top;\n",
              "    }\n",
              "\n",
              "    .dataframe thead th {\n",
              "        text-align: right;\n",
              "    }\n",
              "</style>\n",
              "<table border=\"1\" class=\"dataframe\">\n",
              "  <thead>\n",
              "    <tr style=\"text-align: right;\">\n",
              "      <th></th>\n",
              "      <th>label</th>\n",
              "      <th>text</th>\n",
              "    </tr>\n",
              "  </thead>\n",
              "  <tbody>\n",
              "    <tr>\n",
              "      <th>0</th>\n",
              "      <td>0</td>\n",
              "      <td>أقم الماشي بصورة الغرفة جيدة وكل شيء متوفر عدم...</td>\n",
              "    </tr>\n",
              "    <tr>\n",
              "      <th>1</th>\n",
              "      <td>2</td>\n",
              "      <td>تعجبني كباقي السلسلة متحمس لقراءة الجزء الثاني</td>\n",
              "    </tr>\n",
              "    <tr>\n",
              "      <th>2</th>\n",
              "      <td>0</td>\n",
              "      <td>المكان ممتاز والأمن والاستقبال اوكي التكييف وب...</td>\n",
              "    </tr>\n",
              "    <tr>\n",
              "      <th>3</th>\n",
              "      <td>2</td>\n",
              "      <td>القصة اجمالا مشوقة كونها تعتمد علي شخصيات يجمع...</td>\n",
              "    </tr>\n",
              "    <tr>\n",
              "      <th>4</th>\n",
              "      <td>1</td>\n",
              "      <td>اربع نجوم الملل اصابني النهاية رواية جميلة بال...</td>\n",
              "    </tr>\n",
              "    <tr>\n",
              "      <th>...</th>\n",
              "      <td>...</td>\n",
              "      <td>...</td>\n",
              "    </tr>\n",
              "    <tr>\n",
              "      <th>99994</th>\n",
              "      <td>0</td>\n",
              "      <td>تجربه جميله الطعام ممتاز الغداء والافطار وصولي...</td>\n",
              "    </tr>\n",
              "    <tr>\n",
              "      <th>99995</th>\n",
              "      <td>1</td>\n",
              "      <td>امتعتنى الرواية وآلمتنى جدااا بالسوء الذى يصور...</td>\n",
              "    </tr>\n",
              "    <tr>\n",
              "      <th>99996</th>\n",
              "      <td>2</td>\n",
              "      <td>حسنا رغم شدة اعجابي باليابانيين وثقافتهم وطريق...</td>\n",
              "    </tr>\n",
              "    <tr>\n",
              "      <th>99997</th>\n",
              "      <td>0</td>\n",
              "      <td>أنصح بالأقامة الفندق السيء موقع الفندق ممتاز ت...</td>\n",
              "    </tr>\n",
              "    <tr>\n",
              "      <th>99998</th>\n",
              "      <td>0</td>\n",
              "      <td>للمره الثانيه اسكن وسوف اعاود السكن شي نظافه و...</td>\n",
              "    </tr>\n",
              "  </tbody>\n",
              "</table>\n",
              "<p>99999 rows × 2 columns</p>\n",
              "</div>"
            ],
            "text/plain": [
              "       label                                               text\n",
              "0          0  أقم الماشي بصورة الغرفة جيدة وكل شيء متوفر عدم...\n",
              "1          2     تعجبني كباقي السلسلة متحمس لقراءة الجزء الثاني\n",
              "2          0  المكان ممتاز والأمن والاستقبال اوكي التكييف وب...\n",
              "3          2  القصة اجمالا مشوقة كونها تعتمد علي شخصيات يجمع...\n",
              "4          1  اربع نجوم الملل اصابني النهاية رواية جميلة بال...\n",
              "...      ...                                                ...\n",
              "99994      0  تجربه جميله الطعام ممتاز الغداء والافطار وصولي...\n",
              "99995      1  امتعتنى الرواية وآلمتنى جدااا بالسوء الذى يصور...\n",
              "99996      2  حسنا رغم شدة اعجابي باليابانيين وثقافتهم وطريق...\n",
              "99997      0  أنصح بالأقامة الفندق السيء موقع الفندق ممتاز ت...\n",
              "99998      0  للمره الثانيه اسكن وسوف اعاود السكن شي نظافه و...\n",
              "\n",
              "[99999 rows x 2 columns]"
            ]
          },
          "execution_count": 9,
          "metadata": {},
          "output_type": "execute_result"
        }
      ],
      "source": [
        "# shuffle the data records\n",
        "data = data.sample(frac=1.0, random_state=42).reset_index(drop=True)\n",
        "data"
      ]
    },
    {
      "cell_type": "code",
      "execution_count": null,
      "metadata": {
        "colab": {
          "base_uri": "https://localhost:8080/"
        },
        "id": "_hWk8jSTKMv5",
        "outputId": "de7fed1d-4b64-4c58-e0eb-4593391e5439"
      },
      "outputs": [
        {
          "data": {
            "text/plain": [
              "109"
            ]
          },
          "execution_count": 10,
          "metadata": {},
          "output_type": "execute_result"
        }
      ],
      "source": [
        "# check the duplicates\n",
        "duplicates = data.duplicated().sum()\n",
        "duplicates"
      ]
    },
    {
      "cell_type": "code",
      "execution_count": null,
      "metadata": {
        "colab": {
          "base_uri": "https://localhost:8080/"
        },
        "id": "WtoGHOH5ZHWW",
        "outputId": "fa5bb09a-85fe-4348-ce1e-ffbabd2172d7"
      },
      "outputs": [
        {
          "data": {
            "text/plain": [
              "0"
            ]
          },
          "execution_count": 11,
          "metadata": {},
          "output_type": "execute_result"
        }
      ],
      "source": [
        "# drop the duplicates\n",
        "data = data.drop_duplicates(keep='first')\n",
        "duplicates = data.duplicated().sum()\n",
        "duplicates"
      ]
    },
    {
      "cell_type": "code",
      "execution_count": null,
      "metadata": {
        "colab": {
          "base_uri": "https://localhost:8080/",
          "height": 830
        },
        "id": "S9Repw54m-si",
        "outputId": "85fe0ad4-5ec0-4a46-c6c2-ec3763b3a771"
      },
      "outputs": [
        {
          "data": {
            "text/html": [
              "<div>\n",
              "<style scoped>\n",
              "    .dataframe tbody tr th:only-of-type {\n",
              "        vertical-align: middle;\n",
              "    }\n",
              "\n",
              "    .dataframe tbody tr th {\n",
              "        vertical-align: top;\n",
              "    }\n",
              "\n",
              "    .dataframe thead th {\n",
              "        text-align: right;\n",
              "    }\n",
              "</style>\n",
              "<table border=\"1\" class=\"dataframe\">\n",
              "  <thead>\n",
              "    <tr style=\"text-align: right;\">\n",
              "      <th></th>\n",
              "      <th>label</th>\n",
              "      <th>text</th>\n",
              "    </tr>\n",
              "  </thead>\n",
              "  <tbody>\n",
              "    <tr>\n",
              "      <th>35222</th>\n",
              "      <td>2</td>\n",
              "      <td>شوية شخبطه مالوش الكتابة مشهور والناس بياكلها ...</td>\n",
              "    </tr>\n",
              "    <tr>\n",
              "      <th>39781</th>\n",
              "      <td>2</td>\n",
              "      <td>الصعب تخلق فيلما جيدا بطل خارق الفضاء تحدث الم...</td>\n",
              "    </tr>\n",
              "    <tr>\n",
              "      <th>59696</th>\n",
              "      <td>1</td>\n",
              "      <td>نعرف شيء الدنيا مانعيشه سنوات زمن آخر نكون عمر...</td>\n",
              "    </tr>\n",
              "    <tr>\n",
              "      <th>97339</th>\n",
              "      <td>1</td>\n",
              "      <td>شعرت الصفحة الاولى وكان المكتوب مقتبس احدى روا...</td>\n",
              "    </tr>\n",
              "    <tr>\n",
              "      <th>88569</th>\n",
              "      <td>1</td>\n",
              "      <td>حكيم العجم دمشق الرجل الناصرى تحدث رب الجلال ا...</td>\n",
              "    </tr>\n",
              "    <tr>\n",
              "      <th>...</th>\n",
              "      <td>...</td>\n",
              "      <td>...</td>\n",
              "    </tr>\n",
              "    <tr>\n",
              "      <th>6266</th>\n",
              "      <td>2</td>\n",
              "      <td>الخدمه بطئيه التاخر طلب وجبة الفطور جدا سئي ول...</td>\n",
              "    </tr>\n",
              "    <tr>\n",
              "      <th>54935</th>\n",
              "      <td>1</td>\n",
              "      <td>صالح للسكن العائلات الفندق لائق لسكن العائلات ...</td>\n",
              "    </tr>\n",
              "    <tr>\n",
              "      <th>76891</th>\n",
              "      <td>2</td>\n",
              "      <td>نجمتان ونصف فارق كبير الفضول والاهتمام قارن ال...</td>\n",
              "    </tr>\n",
              "    <tr>\n",
              "      <th>860</th>\n",
              "      <td>2</td>\n",
              "      <td>باختصار شديد قصة عادية جدا تكررت روايتها ألسنة...</td>\n",
              "    </tr>\n",
              "    <tr>\n",
              "      <th>15799</th>\n",
              "      <td>2</td>\n",
              "      <td>مكنتش عارف المؤلف وحدة كنت أجزمت راجل ابن بلد ...</td>\n",
              "    </tr>\n",
              "  </tbody>\n",
              "</table>\n",
              "<p>79912 rows × 2 columns</p>\n",
              "</div>"
            ],
            "text/plain": [
              "       label                                               text\n",
              "35222      2  شوية شخبطه مالوش الكتابة مشهور والناس بياكلها ...\n",
              "39781      2  الصعب تخلق فيلما جيدا بطل خارق الفضاء تحدث الم...\n",
              "59696      1  نعرف شيء الدنيا مانعيشه سنوات زمن آخر نكون عمر...\n",
              "97339      1  شعرت الصفحة الاولى وكان المكتوب مقتبس احدى روا...\n",
              "88569      1  حكيم العجم دمشق الرجل الناصرى تحدث رب الجلال ا...\n",
              "...      ...                                                ...\n",
              "6266       2  الخدمه بطئيه التاخر طلب وجبة الفطور جدا سئي ول...\n",
              "54935      1  صالح للسكن العائلات الفندق لائق لسكن العائلات ...\n",
              "76891      2  نجمتان ونصف فارق كبير الفضول والاهتمام قارن ال...\n",
              "860        2  باختصار شديد قصة عادية جدا تكررت روايتها ألسنة...\n",
              "15799      2  مكنتش عارف المؤلف وحدة كنت أجزمت راجل ابن بلد ...\n",
              "\n",
              "[79912 rows x 2 columns]"
            ]
          },
          "execution_count": 12,
          "metadata": {},
          "output_type": "execute_result"
        },
        {
          "data": {
            "text/html": [
              "<div>\n",
              "<style scoped>\n",
              "    .dataframe tbody tr th:only-of-type {\n",
              "        vertical-align: middle;\n",
              "    }\n",
              "\n",
              "    .dataframe tbody tr th {\n",
              "        vertical-align: top;\n",
              "    }\n",
              "\n",
              "    .dataframe thead th {\n",
              "        text-align: right;\n",
              "    }\n",
              "</style>\n",
              "<table border=\"1\" class=\"dataframe\">\n",
              "  <thead>\n",
              "    <tr style=\"text-align: right;\">\n",
              "      <th></th>\n",
              "      <th>label</th>\n",
              "      <th>text</th>\n",
              "    </tr>\n",
              "  </thead>\n",
              "  <tbody>\n",
              "    <tr>\n",
              "      <th>51925</th>\n",
              "      <td>0</td>\n",
              "      <td>مجموعة قصصية مميزة لنجيب محفوظ</td>\n",
              "    </tr>\n",
              "    <tr>\n",
              "      <th>63992</th>\n",
              "      <td>0</td>\n",
              "      <td>مرة أقرأ كتب النوعية دي ولأحمد ديدات الكتاب فع...</td>\n",
              "    </tr>\n",
              "    <tr>\n",
              "      <th>97278</th>\n",
              "      <td>2</td>\n",
              "      <td>انتهيت قراءته غضون ساعات محاولة جيدة كاتب عربي...</td>\n",
              "    </tr>\n",
              "    <tr>\n",
              "      <th>19925</th>\n",
              "      <td>0</td>\n",
              "      <td>فندق جيد جدا الفطور متنوع يوم الفطور تغير طبقي...</td>\n",
              "    </tr>\n",
              "    <tr>\n",
              "      <th>82793</th>\n",
              "      <td>2</td>\n",
              "      <td>سيء يوجد سيء جدا يوجد نت يوجد مواقف عدم وجود ث...</td>\n",
              "    </tr>\n",
              "    <tr>\n",
              "      <th>...</th>\n",
              "      <td>...</td>\n",
              "      <td>...</td>\n",
              "    </tr>\n",
              "    <tr>\n",
              "      <th>94135</th>\n",
              "      <td>2</td>\n",
              "      <td>اختزال لتاريخ الحضارات القديمه اول الفراعنه لل...</td>\n",
              "    </tr>\n",
              "    <tr>\n",
              "      <th>89844</th>\n",
              "      <td>1</td>\n",
              "      <td>مقبول ال يكن تجاوب الاستقبال خدمة الغرف عبر ال...</td>\n",
              "    </tr>\n",
              "    <tr>\n",
              "      <th>44651</th>\n",
              "      <td>0</td>\n",
              "      <td>اسلوب سلس وافكار مترابطه تشعر بالملل او الضياع...</td>\n",
              "    </tr>\n",
              "    <tr>\n",
              "      <th>99066</th>\n",
              "      <td>0</td>\n",
              "      <td>رائع الموقعالافطارطاقم الموظفين الاستقبال والا...</td>\n",
              "    </tr>\n",
              "    <tr>\n",
              "      <th>98884</th>\n",
              "      <td>2</td>\n",
              "      <td>الغلاف مالوش علاقة بالأحداث نهائي الفكرة تعمدت...</td>\n",
              "    </tr>\n",
              "  </tbody>\n",
              "</table>\n",
              "<p>19978 rows × 2 columns</p>\n",
              "</div>"
            ],
            "text/plain": [
              "       label                                               text\n",
              "51925      0                     مجموعة قصصية مميزة لنجيب محفوظ\n",
              "63992      0  مرة أقرأ كتب النوعية دي ولأحمد ديدات الكتاب فع...\n",
              "97278      2  انتهيت قراءته غضون ساعات محاولة جيدة كاتب عربي...\n",
              "19925      0  فندق جيد جدا الفطور متنوع يوم الفطور تغير طبقي...\n",
              "82793      2  سيء يوجد سيء جدا يوجد نت يوجد مواقف عدم وجود ث...\n",
              "...      ...                                                ...\n",
              "94135      2  اختزال لتاريخ الحضارات القديمه اول الفراعنه لل...\n",
              "89844      1  مقبول ال يكن تجاوب الاستقبال خدمة الغرف عبر ال...\n",
              "44651      0  اسلوب سلس وافكار مترابطه تشعر بالملل او الضياع...\n",
              "99066      0  رائع الموقعالافطارطاقم الموظفين الاستقبال والا...\n",
              "98884      2  الغلاف مالوش علاقة بالأحداث نهائي الفكرة تعمدت...\n",
              "\n",
              "[19978 rows x 2 columns]"
            ]
          },
          "execution_count": 12,
          "metadata": {},
          "output_type": "execute_result"
        }
      ],
      "source": [
        "# divide the whole data into train and val\n",
        "train_data, val_data = train_test_split(data, test_size=0.2, random_state=42)\n",
        "train_data\n",
        "val_data"
      ]
    },
    {
      "cell_type": "code",
      "execution_count": null,
      "metadata": {
        "id": "Kel_QbhQpfFO"
      },
      "outputs": [],
      "source": [
        "# convert train_data and val_data from pandas dataframe to Hugging Face Dataset\n",
        "train_data = Dataset.from_pandas(train_data)\n",
        "val_data = Dataset.from_pandas(val_data)"
      ]
    },
    {
      "cell_type": "code",
      "execution_count": null,
      "metadata": {
        "colab": {
          "base_uri": "https://localhost:8080/"
        },
        "id": "MG0LiJfum-qN",
        "outputId": "67b9eb9a-ae84-4544-8aef-63b71f6434bf"
      },
      "outputs": [
        {
          "data": {
            "text/plain": [
              "DatasetDict({\n",
              "    train: Dataset({\n",
              "        features: ['label', 'text', '__index_level_0__'],\n",
              "        num_rows: 79912\n",
              "    })\n",
              "    val: Dataset({\n",
              "        features: ['label', 'text', '__index_level_0__'],\n",
              "        num_rows: 19978\n",
              "    })\n",
              "})"
            ]
          },
          "execution_count": 14,
          "metadata": {},
          "output_type": "execute_result"
        }
      ],
      "source": [
        "# Create an empty DatasetDict to store different splits of my dataset\n",
        "datasets = DatasetDict()\n",
        "\n",
        "# Add the training data to the DatasetDict under the key 'train'\n",
        "datasets['train']   = train_data\n",
        "\n",
        "# Add the validation data to the DatasetDict under the key 'val'\n",
        "datasets['val']   = val_data\n",
        "datasets"
      ]
    },
    {
      "cell_type": "code",
      "execution_count": null,
      "metadata": {
        "colab": {
          "base_uri": "https://localhost:8080/"
        },
        "id": "b3FLIEscm-np",
        "outputId": "e92a4ae3-5406-4f37-97ea-4b200dde3b49"
      },
      "outputs": [
        {
          "name": "stdout",
          "output_type": "stream",
          "text": [
            "['label', 'text', '__index_level_0__']\n",
            "==================================================\n",
            "{'label': 2, 'text': 'شوية شخبطه مالوش الكتابة مشهور والناس بياكلها الفضول ناحية المشاهير', '__index_level_0__': 35222}\n",
            "==================================================\n",
            "{'label': Value(dtype='int64', id=None), 'text': Value(dtype='string', id=None), '__index_level_0__': Value(dtype='int64', id=None)}\n",
            "==================================================\n",
            "{'label': [2, 2, 1], 'text': ['شوية شخبطه مالوش الكتابة مشهور والناس بياكلها الفضول ناحية المشاهير', 'الصعب تخلق فيلما جيدا بطل خارق الفضاء تحدث المخرج كوينتن تارنتينو سوبر مان أبطاله الخارقين ولكنه رغم يعلم أنه الصعب جدا صنع فيلما جيدا عنه تبعا للقواعد ببساطة لأنه يوجد عنده نقطة تتعاطف معه قمت بصناعة فيلم سوبر مان سأهتم بمحاولته التعايش معنا بشخصية كلارك كنت وليس بمعاركه والأشرار الضئيلين أمامه كلمات تارنتينو تنطبق بشكل شبة حرفي البطل الخارق الآخر ثور وعن أزمة الجزء الثاني السلسلة تحمل اسمه جعلته فيلما محدودا جدا رغم لحظاته الجيدة الجزء أخرجه المخرج الكبير كينيث براناه عام استطاع تجاوز الخاصة بالعالم الحقيقي ينطلق وذلك خلال الحبكة الشكسبيرية لصانع أفلام دائما ارتبط اسمه شكسبير قدم براناه أفلام مسرحيات شكسبير سواء كمخرج كممثل وفي الجزء أخرجه ثور الحكاية أقرب لمحاكاة لقصة الملك لير واهتمام المشاهد ينصب بالأساس حول الصراع أخين اتجاه ملك أبيهم مشاهد الحركة الصراع المحاربين الأسطوريين ووحوش الثلج الجزء تضع شركة مارفيل ثقتها المخرج التلفزيوني آلان تايلور اعتمادا النجاح الكبير حققه كأحد صناع مسلسل تماما ثور عوالم أسطورية وصراع ضخم الممالك الكرسي الفارق الحقيقي القيمة الدرامية المسلسل والفيلم النتيجة النهائية لعمل تايلور السينمائي المتوسطة يبدأ الفيلم بمقدمة تمهيدية خصم ثور مالكيث قائد الجان هزمه ملك أزجارد آلاف ويبدو وشك العودة جديد بسلاحه الخارق إيثار سيغرق الكون ظلام وكي يستطيع ثور مواجهته يجب الإتحاد حبيبته الأرضية جين فوستر والأهم الثقة أخيه لوكي لمرة وحيدة سيء الفيلم يتعلق بعوالمه يبدو مثيرا للاهتمام مشاهدة حرب الجان الأسطوريين ومحاربين الفضاء آلان تايلور عكس الميزة الأهم يفشل تأسيس عالمه بشكل يضعنا تماس فتبدو مشاهد الحركة والصراع رتيبة وكرتونية الممكن خصوصا أننا نشعر بالاهتمام فعلا بأمر ثور نبدو ثقة أنه سيدير أموره وأن الشاكوش الضخم يحمله سينقذه تبدو جملة تارنتينو سوبرمان صالحة جدا للاستخدام لأنه يوجد عنده نقطة تتعاطف معه يكفي لذلك الصعب تكن كينيث براناه وتذهب وراء حبكة بشرية تخلق فيلما جيدا بطل خارق خارج الأرض اللحظات الوحيدة المشرقة الفيلم تتعلق تحديدا بهذا الإرث المتروك الجزء الأول العلاقة ثور وأخيه لوكي تقترب الدراما أمور يجبر الثقة أخيه وحين نظن أنه ينقذ يبدو شيء يتوه سواء النفس الكوميدي أصر تايلور إبقاءه طوال العمل اللحظات يفترض فزاد الحس الهزلي يغلب بسبب رتابة المعركة ظن تايلور ومصممو المعارك شركة مارفيل أنه يمكن جديد صنع مشهد معركة رئيسي وحوش تنزل أليس حرفيا وبنفس التصميم البصري حدث العام بدا الفيلم مملا جدا المرحلة وأن مليون ميزانية أغلبها للمؤثرات الخاصة تستطيع تنقذه الرتابة والهزلية ورغم محدودية الفيلم المستوى الأمور تبدو بخير بالنسبة لشركة مارفيل فقط بسبب الإيرادات الجيدة لأن مشروع أبطالها الخارقين المتصل يكون ناجحا الجماهير أضعف الأقل كتمهيد لنجاح تاريخي منتظر للجزء القادم العام المقبل', 'نعرف شيء الدنيا مانعيشه سنوات زمن آخر نكون عمر الدنيا تعي الإحاطة بكل شيء الدنيا كلها طلاسم كلها طلاسم بهذه الكلمات أنهى مصطفى محمود روايته الغريبه رواية خيالية خفيفه تحمل معاني كثيرة ربما ماذكره ربما يحدث المستقبل ربما شيء جائز العالم ظل التطور الهائل'], '__index_level_0__': [35222, 39781, 59696]}\n"
          ]
        }
      ],
      "source": [
        "train_data = datasets['train']\n",
        "print(train_data.column_names)\n",
        "print(\"=\"*50)\n",
        "print(train_data[0])\n",
        "print(\"=\"*50)\n",
        "print(train_data.features)\n",
        "print(\"=\"*50)\n",
        "print(train_data[:3])"
      ]
    },
    {
      "cell_type": "markdown",
      "metadata": {
        "id": "MbUXrc5QtMOm"
      },
      "source": [
        "# Load Model & Tokenizer\n",
        "---------\n",
        "----------\n",
        "==> at this part I used (CAMeL-Lab/bert-base-arabic-camelbert-msa) model for finetuning you can find it on hugging face at: https://huggingface.co/CAMeL-Lab/bert-base-arabic-camelbert-msa\n",
        "\n"
      ]
    },
    {
      "cell_type": "code",
      "execution_count": null,
      "metadata": {
        "colab": {
          "base_uri": "https://localhost:8080/",
          "height": 232,
          "referenced_widgets": [
            "68b80eee95fb4f4f932b61da22908e6c",
            "82a9f0ac78f448b09164c2df2f79bb55",
            "6cffd1c452174e80a13f804d382a7a45",
            "73d487d2ba804ef1adaac9e701d69ff1",
            "9954bd0aa251433f9a6b5f5b6da301be",
            "fda0569d761f42f5b417b641c207050b",
            "2f2a9a4a30f34725b5f40eaa1e5810c4",
            "1b463fc528ef453e959b6b001191c395",
            "3956194da5de4aa3bfb8b174dee7aa16",
            "5be943feacb14176a19f03c10d754166",
            "dfd7bceee03e4f639ec3f2f794b70888",
            "01057ac9d5ea436a97e0592c7d46ecf1",
            "dc331f1ea30445099d28166755a56038",
            "f5b91da0d86b449eb86fec2248d77e8b",
            "99ce2825686748b2a7508b81245d2aba",
            "b3392f8dd8e2445fac81c005b64de9e1",
            "f3a7cfed56bf462eabf676db3e5538a4",
            "e2b853e311e848f490c8fc36139a2968",
            "3ce28688eaee4224ac3c41d28f935afe",
            "ffbbd774b95b4e358ad3f6958a08bafa",
            "3ddb19a6ccb946688478cefb0fec4581",
            "31e60ab8b2e749e3a7af6f36d63c484f",
            "843b3a069d054c2086893b07ff955840",
            "bc16a7562f3442cda8a854fae6841b95",
            "a6887357bc5f4c82b40cb55b6a84c941",
            "71213a49590c4327a95a2496ab658749",
            "a8300f25e5484e89b77f666603e7a95c",
            "a04e2ceb12a44cce8eb08649731132e0",
            "71b0620c01ce46ef94d2c4dbc85b6922",
            "069eda2997ed4c3e8c489b3c7b89c3de",
            "f26efe0141eb43199ce27e81194643da",
            "38ebaabd00c14ca6b20659b4d0af1193",
            "c4f57c8c98d54d6db62dd2d6f9b8639e",
            "ab6821d443b846eea6cee9e2846c9fae",
            "1dbec149e3464e0cbb3081b984fe3650",
            "b8b2b3e164b248b18048812ef8504743",
            "cbcc07a6126e4baab869d45a6127052d",
            "ff78942eec1d492ea398fb0b98db1b1f",
            "faacb82279ea410b949e219546eb2180",
            "ee96d0b0f59340d88cfaabb77e584373",
            "283f1ede2c364c36937f4825951d4786",
            "d95d5173760a4af791cd8e0155fab02e",
            "2ee292df48dc460cbbc22b105a92dcfb",
            "9564fe2efbdb45d2b40cb7c5ad0d822b",
            "3a75d8029b6a45b0aeeea152ac98aa6e",
            "b6b26134835b49ab97c24b6d2661e75f",
            "459c2f5e299944f982da5bab9b69f8f6",
            "5606e63f0563411fb1f9ac5358e4a106",
            "2b59925cbedc419498e1d819e8d1a006",
            "03ea5e331db143f68eab7cb99ea78b40",
            "921bb19071e84330bf1bb850663ef285",
            "c872256601e645318f9bc875b636dcb5",
            "6fd825b494ae427ba3ed520ed8abcb0c",
            "2448097ca14c4b30bfc6bc452fbb4d2f",
            "cb6ab98c97de45f297999206b1c076f7"
          ]
        },
        "id": "u5UAtNLftVXg",
        "outputId": "3a173350-d25e-40cb-9633-936da9577603"
      },
      "outputs": [
        {
          "name": "stderr",
          "output_type": "stream",
          "text": [
            "Some weights of BertForSequenceClassification were not initialized from the model checkpoint at CAMeL-Lab/bert-base-arabic-camelbert-msa and are newly initialized: ['classifier.weight', 'classifier.bias']\n",
            "You should probably TRAIN this model on a down-stream task to be able to use it for predictions and inference.\n"
          ]
        }
      ],
      "source": [
        "# load model and tokenizer\n",
        "\n",
        "model_ckpt = \"CAMeL-Lab/bert-base-arabic-camelbert-msa\"\n",
        "tokenizer = AutoTokenizer.from_pretrained(model_ckpt)\n",
        "\n",
        "device = torch.device(\"cuda\" if torch.cuda.is_available() else \"cpu\")\n",
        "\n",
        "num_labels = len(set(data['label']))\n",
        "model = AutoModelForSequenceClassification.from_pretrained(model_ckpt, num_labels=num_labels).to(device)"
      ]
    },
    {
      "cell_type": "markdown",
      "metadata": {
        "id": "Y7x7enXMs5cf"
      },
      "source": [
        "# Tokenizer\n",
        "----------------------\n",
        "--------------"
      ]
    },
    {
      "cell_type": "code",
      "execution_count": null,
      "metadata": {
        "id": "LR36D084m-lA"
      },
      "outputs": [],
      "source": [
        "# tokenization function\n",
        "def tokenize_batch(batch_text):\n",
        "    return  tokenizer(batch_text['text'], padding='max_length', truncation=True, max_length=512)"
      ]
    },
    {
      "cell_type": "code",
      "execution_count": null,
      "metadata": {
        "colab": {
          "base_uri": "https://localhost:8080/",
          "height": 81,
          "referenced_widgets": [
            "00ad4fcb791c473f9317230390e655a7",
            "c77e8b445b20413ea60cf6e14cc29c4c",
            "f60c8e5901eb4df69dd9daa9aa0feeec",
            "054d1dcea51f4da4996bc3e5886816f9",
            "5c78e1d630e147ef8764a61c31d97ad5",
            "f2e09f5e74cc47d0baa710986925e8a6",
            "e831d1c5ac3846759a53faaa6d383757",
            "d10b6c38ec0f4642b6d8039463cd0362",
            "f7bd284ef2894d7aad08dbcab9ec5c91",
            "e46d64a1b84f47d88f6762b8cb81dcf3",
            "73a2da60d9e748948b6ddeadbbe99ab3",
            "9128937f678d48ee80ccd10f6e3cc09a",
            "25fde5c7c89f4051b9f0d2bbaab40680",
            "3af7e6acf940494583a682d8fc87f3e9",
            "652c77547b8a4af5a5c9ee2f5f056734",
            "136cdfa388dc43e4ab779092af038281",
            "86eee74cd94345ffa8715702ade445a5",
            "c4ec1f2c71bc44c191d60be9c13bc4b7",
            "6f99a0181cda4da38feda42f5e8581cb",
            "e28fe44565424ce8a36b63be297db509",
            "96f14213fd984a5d86c498582c82d7ee",
            "8a23718fcb0345e1ad1eac8800834c74",
            "d78837105ec14d8dba483b292af696fc",
            "71c2ffff5d9f4ead9206181a1303b8e1",
            "34eb231e3cbd49029927f226aa9726cc",
            "408bce00d9224fa2bbb25cc59a35dfbc"
          ]
        },
        "id": "XE567P2zm-ii",
        "outputId": "e988bc0e-6193-4411-d16f-acc062eb2551"
      },
      "outputs": [
        {
          "data": {
            "application/vnd.jupyter.widget-view+json": {
              "model_id": "34eb231e3cbd49029927f226aa9726cc",
              "version_major": 2,
              "version_minor": 0
            },
            "text/plain": [
              "Map:   0%|          | 0/79912 [00:00<?, ? examples/s]"
            ]
          },
          "metadata": {},
          "output_type": "display_data"
        },
        {
          "data": {
            "application/vnd.jupyter.widget-view+json": {
              "model_id": "408bce00d9224fa2bbb25cc59a35dfbc",
              "version_major": 2,
              "version_minor": 0
            },
            "text/plain": [
              "Map:   0%|          | 0/19978 [00:00<?, ? examples/s]"
            ]
          },
          "metadata": {},
          "output_type": "display_data"
        }
      ],
      "source": [
        "# perform the tokenization function on both training and val data\n",
        "datasets_encoded = datasets.map(tokenize_batch, batched=True, batch_size=512)"
      ]
    },
    {
      "cell_type": "code",
      "execution_count": null,
      "metadata": {
        "colab": {
          "base_uri": "https://localhost:8080/"
        },
        "id": "TJsiAJj4vNt3",
        "outputId": "d29c59a6-89a6-48ac-df9f-24730529d1e4"
      },
      "outputs": [
        {
          "name": "stdout",
          "output_type": "stream",
          "text": [
            "{'train': ['label', 'text', '__index_level_0__', 'input_ids', 'token_type_ids', 'attention_mask'], 'val': ['label', 'text', '__index_level_0__', 'input_ids', 'token_type_ids', 'attention_mask']}\n"
          ]
        }
      ],
      "source": [
        "# print labels of the data after tokeniztion\n",
        "print(datasets_encoded.column_names)"
      ]
    },
    {
      "cell_type": "code",
      "execution_count": null,
      "metadata": {
        "colab": {
          "base_uri": "https://localhost:8080/"
        },
        "id": "xYLLrZ6uzUR-",
        "outputId": "dccc86be-fde2-4ffb-89dc-5a3cfb999388"
      },
      "outputs": [
        {
          "data": {
            "text/plain": [
              "512"
            ]
          },
          "execution_count": 20,
          "metadata": {},
          "output_type": "execute_result"
        }
      ],
      "source": [
        "len(datasets_encoded['train']['input_ids'][1])"
      ]
    },
    {
      "cell_type": "code",
      "execution_count": null,
      "metadata": {
        "colab": {
          "base_uri": "https://localhost:8080/"
        },
        "id": "tl_DCVhC0VU4",
        "outputId": "8e197b13-dfdb-4258-ae8b-1dcab720aac7"
      },
      "outputs": [
        {
          "name": "stdout",
          "output_type": "stream",
          "text": [
            "30000\n",
            "1000000000000000019884624838656\n",
            "['input_ids', 'token_type_ids', 'attention_mask']\n"
          ]
        }
      ],
      "source": [
        "# print some model specs\n",
        "print(tokenizer.vocab_size)\n",
        "print(tokenizer.model_max_length)\n",
        "print(tokenizer.model_input_names)"
      ]
    },
    {
      "cell_type": "code",
      "execution_count": null,
      "metadata": {
        "id": "QdOh4D5Xm-fx"
      },
      "outputs": [],
      "source": [
        "# convert the datasets_encoded to tnsors because of the compatibility of model\n",
        "datasets_encoded.set_format(\"torch\", columns=[\"input_ids\", \"attention_mask\", \"label\", \"token_type_ids\"])"
      ]
    },
    {
      "cell_type": "markdown",
      "metadata": {
        "id": "aU9yFZyfvvHn"
      },
      "source": [
        "# Trainer\n",
        "------\n",
        "--------\n",
        "==> accuracy, f1, precision, and recall were used to evalute oure training process"
      ]
    },
    {
      "cell_type": "code",
      "execution_count": null,
      "metadata": {
        "id": "lodmslcCVUS8"
      },
      "outputs": [],
      "source": [
        "# define function to compute different metrics\n",
        "def compute_metrics(pred):\n",
        "    labels = pred.label_ids\n",
        "    preds = pred.predictions.argmax(-1)\n",
        "\n",
        "    accuracy = accuracy_score(labels, preds)\n",
        "    f1 = f1_score(labels, preds, average=\"weighted\")\n",
        "    precision = precision_score(labels, preds, average=\"weighted\")\n",
        "    recall = recall_score(labels, preds, average=\"weighted\")\n",
        "\n",
        "    return {\"accuracy\": accuracy, \"f1\": f1, \"precision\": precision, \"recall\": recall}"
      ]
    },
    {
      "cell_type": "code",
      "execution_count": 2,
      "metadata": {
        "id": "s-wrZIrIxRi7"
      },
      "outputs": [],
      "source": [
        "# empty the ram\n",
        "import torch, gc\n",
        "gc.collect()\n",
        "torch.cuda.empty_cache()"
      ]
    },
    {
      "cell_type": "code",
      "execution_count": null,
      "metadata": {
        "id": "p9fI6hcHmasK",
        "outputId": "74a94350-cbd2-4480-c573-0be36315fe5d"
      },
      "outputs": [
        {
          "data": {
            "text/html": [
              "\n",
              "    <div>\n",
              "      \n",
              "      <progress value='29967' max='29967' style='width:300px; height:20px; vertical-align: middle;'></progress>\n",
              "      [29967/29967 2:15:55, Epoch 3/3]\n",
              "    </div>\n",
              "    <table border=\"1\" class=\"dataframe\">\n",
              "  <thead>\n",
              " <tr style=\"text-align: left;\">\n",
              "      <th>Epoch</th>\n",
              "      <th>Training Loss</th>\n",
              "      <th>Validation Loss</th>\n",
              "      <th>Accuracy</th>\n",
              "      <th>F1</th>\n",
              "      <th>Precision</th>\n",
              "      <th>Recall</th>\n",
              "    </tr>\n",
              "  </thead>\n",
              "  <tbody>\n",
              "    <tr>\n",
              "      <td>1</td>\n",
              "      <td>0.564800</td>\n",
              "      <td>0.627221</td>\n",
              "      <td>0.716538</td>\n",
              "      <td>0.713268</td>\n",
              "      <td>0.712738</td>\n",
              "      <td>0.716538</td>\n",
              "    </tr>\n",
              "    <tr>\n",
              "      <td>2</td>\n",
              "      <td>0.515900</td>\n",
              "      <td>0.706339</td>\n",
              "      <td>0.724847</td>\n",
              "      <td>0.724688</td>\n",
              "      <td>0.725451</td>\n",
              "      <td>0.724847</td>\n",
              "    </tr>\n",
              "    <tr>\n",
              "      <td>3</td>\n",
              "      <td>0.388700</td>\n",
              "      <td>0.899850</td>\n",
              "      <td>0.720242</td>\n",
              "      <td>0.720955</td>\n",
              "      <td>0.722200</td>\n",
              "      <td>0.720242</td>\n",
              "    </tr>\n",
              "  </tbody>\n",
              "</table><p>"
            ],
            "text/plain": [
              "<IPython.core.display.HTML object>"
            ]
          },
          "metadata": {},
          "output_type": "display_data"
        },
        {
          "data": {
            "text/plain": [
              "TrainOutput(global_step=29967, training_loss=0.48978628281474207, metrics={'train_runtime': 8155.5655, 'train_samples_per_second': 29.395, 'train_steps_per_second': 3.674, 'total_flos': 6.307775831243981e+16, 'train_loss': 0.48978628281474207, 'epoch': 3.0})"
            ]
          },
          "execution_count": 26,
          "metadata": {},
          "output_type": "execute_result"
        }
      ],
      "source": [
        "batch_size = 8\n",
        "logging_steps = len(datasets[\"train\"]) // batch_size\n",
        "\n",
        "model_name = f\"{model_ckpt}-finetuned-Arabic_sentment_analysis_3\"\n",
        "\n",
        "\n",
        "# specify training arguments\n",
        "training_args = TrainingArguments(\n",
        "    output_dir=model_name,\n",
        "    num_train_epochs=3,\n",
        "    learning_rate=2e-5,\n",
        "    per_device_train_batch_size=batch_size,\n",
        "    per_device_eval_batch_size=batch_size,\n",
        "    weight_decay=0.01,\n",
        "    evaluation_strategy=\"epoch\",\n",
        "    disable_tqdm=False,\n",
        "    logging_steps=logging_steps ,\n",
        "    log_level=\"error\",\n",
        "    save_total_limit=1\n",
        ")\n",
        "\n",
        "trainer = Trainer(\n",
        "    model=model,\n",
        "    args=training_args,\n",
        "    compute_metrics=compute_metrics,\n",
        "    train_dataset=datasets_encoded[\"train\"],\n",
        "    eval_dataset=datasets_encoded[\"val\"],\n",
        "    tokenizer=tokenizer,\n",
        "\n",
        ")\n",
        "\n",
        "# Start\n",
        "trainer.train()"
      ]
    },
    {
      "cell_type": "code",
      "execution_count": null,
      "metadata": {
        "id": "E0t-jBEWmapo"
      },
      "outputs": [],
      "source": [
        "# # resume training from the last check points\n",
        "# trainer.train(resume_from_checkpoint = True)"
      ]
    },
    {
      "cell_type": "markdown",
      "source": [],
      "metadata": {
        "id": "O6GQuOHDMtOS"
      }
    },
    {
      "cell_type": "markdown",
      "source": [
        "# save the model\n",
        "---------------------\n",
        "---------------------"
      ],
      "metadata": {
        "id": "snACKuByZKQJ"
      }
    },
    {
      "cell_type": "code",
      "execution_count": null,
      "metadata": {
        "id": "v-KHnUKcmakS",
        "outputId": "020da65a-6686-4296-b7f9-7d9e443bdaf9"
      },
      "outputs": [
        {
          "data": {
            "text/plain": [
              "('CAMeL-Lab/bert-base-arabic-camelbert-msa-finetuned-Arabic_sentment_analysis_3/tokenizer_config.json',\n",
              " 'CAMeL-Lab/bert-base-arabic-camelbert-msa-finetuned-Arabic_sentment_analysis_3/special_tokens_map.json',\n",
              " 'CAMeL-Lab/bert-base-arabic-camelbert-msa-finetuned-Arabic_sentment_analysis_3/vocab.txt',\n",
              " 'CAMeL-Lab/bert-base-arabic-camelbert-msa-finetuned-Arabic_sentment_analysis_3/added_tokens.json',\n",
              " 'CAMeL-Lab/bert-base-arabic-camelbert-msa-finetuned-Arabic_sentment_analysis_3/tokenizer.json')"
            ]
          },
          "execution_count": 27,
          "metadata": {},
          "output_type": "execute_result"
        }
      ],
      "source": [
        "# save the model and tokenizer\n",
        "model.save_pretrained(model_name)\n",
        "tokenizer.save_pretrained(model_name)"
      ]
    },
    {
      "cell_type": "markdown",
      "metadata": {
        "id": "zxVNmduVz2Lm"
      },
      "source": [
        "# inference"
      ]
    },
    {
      "cell_type": "code",
      "execution_count": null,
      "metadata": {
        "id": "gSA3zv00mahR"
      },
      "outputs": [],
      "source": [
        "# load our model to use it for inference and evalute its performance\n",
        "model_ckpt = \"CAMeL-Lab/bert-base-arabic-camelbert-msa-finetuned-Arabic_sentment_analysis_3/model_weights\"\n",
        "\n",
        "device = torch.device(\"cuda\" if torch.cuda.is_available() else \"cpu\")\n",
        "\n",
        "num_labels = len(set(data['label']))\n",
        "model = AutoModelForSequenceClassification.from_pretrained(model_ckpt, num_labels=num_labels).to(device)"
      ]
    },
    {
      "cell_type": "code",
      "execution_count": null,
      "metadata": {
        "id": "-px3nXChn_xE"
      },
      "outputs": [],
      "source": [
        "# define a function take the text and return the prediction\n",
        "def get_pridiction(in_text):\n",
        "    in_text_clean = pd.Series(in_text).apply(preprocess_text)\n",
        "    batch = tokenizer(str(in_text_clean) ,  return_tensors=\"pt\").to(device)\n",
        "\n",
        "    # Forward pass to get logits\n",
        "    with torch.no_grad():\n",
        "        logits = model(**batch).logits\n",
        "\n",
        "    # Apply softmax to get probabilities\n",
        "    probabilities = torch.nn.functional.softmax(logits, dim=1)\n",
        "\n",
        "    if torch.argmax(probabilities) == 0:\n",
        "        return print('Positive')\n",
        "    elif torch.argmax(probabilities) == 1:\n",
        "        return print('Mixed')\n",
        "    elif torch.argmax(probabilities) == 2:\n",
        "        return print('Negative')"
      ]
    },
    {
      "cell_type": "code",
      "execution_count": null,
      "metadata": {
        "id": "lM1iOZZYn_xD",
        "outputId": "a3aaf803-62b6-41b4-ba15-eaf777161336"
      },
      "outputs": [
        {
          "name": "stdout",
          "output_type": "stream",
          "text": [
            "Positive\n"
          ]
        }
      ],
      "source": [
        "in_text = \"التعلم واكتساب المهارات يفتحان أفقًا جديدًا من الفرص\"\n",
        "results = get_pridiction(in_text)\n",
        "results"
      ]
    },
    {
      "cell_type": "code",
      "execution_count": null,
      "metadata": {
        "id": "cbukkP0in_xD",
        "outputId": "91c6d1ae-2d8b-49cc-fd0c-19d9cf8fac19"
      },
      "outputs": [
        {
          "name": "stdout",
          "output_type": "stream",
          "text": [
            "Mixed\n"
          ]
        }
      ],
      "source": [
        "in_text = \"فرحان اوى\"\n",
        "results = get_pridiction(in_text)\n",
        "results"
      ]
    },
    {
      "cell_type": "code",
      "execution_count": null,
      "metadata": {
        "id": "ooZViE6gn_xD",
        "outputId": "3fde5061-3a4a-44d5-bad0-315329c1ed7d"
      },
      "outputs": [
        {
          "name": "stdout",
          "output_type": "stream",
          "text": [
            "Negative\n"
          ]
        }
      ],
      "source": [
        "in_text = \"لا يسعك سوى التهام دواوينه\"\n",
        "results = get_pridiction(in_text)\n",
        "results"
      ]
    },
    {
      "cell_type": "code",
      "execution_count": null,
      "metadata": {
        "id": "7XfqBPRsn_xE"
      },
      "outputs": [],
      "source": [
        "."
      ]
    }
  ],
  "metadata": {
    "colab": {
      "provenance": [],
      "collapsed_sections": [
        "DbHdVfzKxd4n",
        "VsnZ_Gm4tAmu",
        "MbUXrc5QtMOm",
        "Y7x7enXMs5cf",
        "aU9yFZyfvvHn",
        "snACKuByZKQJ"
      ]
    },
    "kernelspec": {
      "display_name": "Python 3 (ipykernel)",
      "language": "python",
      "name": "python3"
    },
    "language_info": {
      "codemirror_mode": {
        "name": "ipython",
        "version": 3
      },
      "file_extension": ".py",
      "mimetype": "text/x-python",
      "name": "python",
      "nbconvert_exporter": "python",
      "pygments_lexer": "ipython3",
      "version": "3.9.16"
    },
    "widgets": {
      "application/vnd.jupyter.widget-state+json": {
        "00ad4fcb791c473f9317230390e655a7": {
          "model_module": "@jupyter-widgets/controls",
          "model_module_version": "1.5.0",
          "model_name": "HBoxModel",
          "state": {
            "_dom_classes": [],
            "_model_module": "@jupyter-widgets/controls",
            "_model_module_version": "1.5.0",
            "_model_name": "HBoxModel",
            "_view_count": null,
            "_view_module": "@jupyter-widgets/controls",
            "_view_module_version": "1.5.0",
            "_view_name": "HBoxView",
            "box_style": "",
            "children": [
              "IPY_MODEL_c77e8b445b20413ea60cf6e14cc29c4c",
              "IPY_MODEL_f60c8e5901eb4df69dd9daa9aa0feeec",
              "IPY_MODEL_054d1dcea51f4da4996bc3e5886816f9"
            ],
            "layout": "IPY_MODEL_5c78e1d630e147ef8764a61c31d97ad5"
          }
        },
        "01057ac9d5ea436a97e0592c7d46ecf1": {
          "model_module": "@jupyter-widgets/controls",
          "model_module_version": "1.5.0",
          "model_name": "HBoxModel",
          "state": {
            "_dom_classes": [],
            "_model_module": "@jupyter-widgets/controls",
            "_model_module_version": "1.5.0",
            "_model_name": "HBoxModel",
            "_view_count": null,
            "_view_module": "@jupyter-widgets/controls",
            "_view_module_version": "1.5.0",
            "_view_name": "HBoxView",
            "box_style": "",
            "children": [
              "IPY_MODEL_dc331f1ea30445099d28166755a56038",
              "IPY_MODEL_f5b91da0d86b449eb86fec2248d77e8b",
              "IPY_MODEL_99ce2825686748b2a7508b81245d2aba"
            ],
            "layout": "IPY_MODEL_b3392f8dd8e2445fac81c005b64de9e1"
          }
        },
        "03ea5e331db143f68eab7cb99ea78b40": {
          "model_module": "@jupyter-widgets/base",
          "model_module_version": "1.2.0",
          "model_name": "LayoutModel",
          "state": {
            "_model_module": "@jupyter-widgets/base",
            "_model_module_version": "1.2.0",
            "_model_name": "LayoutModel",
            "_view_count": null,
            "_view_module": "@jupyter-widgets/base",
            "_view_module_version": "1.2.0",
            "_view_name": "LayoutView",
            "align_content": null,
            "align_items": null,
            "align_self": null,
            "border": null,
            "bottom": null,
            "display": null,
            "flex": null,
            "flex_flow": null,
            "grid_area": null,
            "grid_auto_columns": null,
            "grid_auto_flow": null,
            "grid_auto_rows": null,
            "grid_column": null,
            "grid_gap": null,
            "grid_row": null,
            "grid_template_areas": null,
            "grid_template_columns": null,
            "grid_template_rows": null,
            "height": null,
            "justify_content": null,
            "justify_items": null,
            "left": null,
            "margin": null,
            "max_height": null,
            "max_width": null,
            "min_height": null,
            "min_width": null,
            "object_fit": null,
            "object_position": null,
            "order": null,
            "overflow": null,
            "overflow_x": null,
            "overflow_y": null,
            "padding": null,
            "right": null,
            "top": null,
            "visibility": null,
            "width": null
          }
        },
        "054d1dcea51f4da4996bc3e5886816f9": {
          "model_module": "@jupyter-widgets/controls",
          "model_module_version": "1.5.0",
          "model_name": "HTMLModel",
          "state": {
            "_dom_classes": [],
            "_model_module": "@jupyter-widgets/controls",
            "_model_module_version": "1.5.0",
            "_model_name": "HTMLModel",
            "_view_count": null,
            "_view_module": "@jupyter-widgets/controls",
            "_view_module_version": "1.5.0",
            "_view_name": "HTMLView",
            "description": "",
            "description_tooltip": null,
            "layout": "IPY_MODEL_e46d64a1b84f47d88f6762b8cb81dcf3",
            "placeholder": "​",
            "style": "IPY_MODEL_73a2da60d9e748948b6ddeadbbe99ab3",
            "value": " 79912/79912 [00:32&lt;00:00, 2760.15 examples/s]"
          }
        },
        "069eda2997ed4c3e8c489b3c7b89c3de": {
          "model_module": "@jupyter-widgets/base",
          "model_module_version": "1.2.0",
          "model_name": "LayoutModel",
          "state": {
            "_model_module": "@jupyter-widgets/base",
            "_model_module_version": "1.2.0",
            "_model_name": "LayoutModel",
            "_view_count": null,
            "_view_module": "@jupyter-widgets/base",
            "_view_module_version": "1.2.0",
            "_view_name": "LayoutView",
            "align_content": null,
            "align_items": null,
            "align_self": null,
            "border": null,
            "bottom": null,
            "display": null,
            "flex": null,
            "flex_flow": null,
            "grid_area": null,
            "grid_auto_columns": null,
            "grid_auto_flow": null,
            "grid_auto_rows": null,
            "grid_column": null,
            "grid_gap": null,
            "grid_row": null,
            "grid_template_areas": null,
            "grid_template_columns": null,
            "grid_template_rows": null,
            "height": null,
            "justify_content": null,
            "justify_items": null,
            "left": null,
            "margin": null,
            "max_height": null,
            "max_width": null,
            "min_height": null,
            "min_width": null,
            "object_fit": null,
            "object_position": null,
            "order": null,
            "overflow": null,
            "overflow_x": null,
            "overflow_y": null,
            "padding": null,
            "right": null,
            "top": null,
            "visibility": null,
            "width": null
          }
        },
        "136cdfa388dc43e4ab779092af038281": {
          "model_module": "@jupyter-widgets/base",
          "model_module_version": "1.2.0",
          "model_name": "LayoutModel",
          "state": {
            "_model_module": "@jupyter-widgets/base",
            "_model_module_version": "1.2.0",
            "_model_name": "LayoutModel",
            "_view_count": null,
            "_view_module": "@jupyter-widgets/base",
            "_view_module_version": "1.2.0",
            "_view_name": "LayoutView",
            "align_content": null,
            "align_items": null,
            "align_self": null,
            "border": null,
            "bottom": null,
            "display": null,
            "flex": null,
            "flex_flow": null,
            "grid_area": null,
            "grid_auto_columns": null,
            "grid_auto_flow": null,
            "grid_auto_rows": null,
            "grid_column": null,
            "grid_gap": null,
            "grid_row": null,
            "grid_template_areas": null,
            "grid_template_columns": null,
            "grid_template_rows": null,
            "height": null,
            "justify_content": null,
            "justify_items": null,
            "left": null,
            "margin": null,
            "max_height": null,
            "max_width": null,
            "min_height": null,
            "min_width": null,
            "object_fit": null,
            "object_position": null,
            "order": null,
            "overflow": null,
            "overflow_x": null,
            "overflow_y": null,
            "padding": null,
            "right": null,
            "top": null,
            "visibility": null,
            "width": null
          }
        },
        "1b463fc528ef453e959b6b001191c395": {
          "model_module": "@jupyter-widgets/base",
          "model_module_version": "1.2.0",
          "model_name": "LayoutModel",
          "state": {
            "_model_module": "@jupyter-widgets/base",
            "_model_module_version": "1.2.0",
            "_model_name": "LayoutModel",
            "_view_count": null,
            "_view_module": "@jupyter-widgets/base",
            "_view_module_version": "1.2.0",
            "_view_name": "LayoutView",
            "align_content": null,
            "align_items": null,
            "align_self": null,
            "border": null,
            "bottom": null,
            "display": null,
            "flex": null,
            "flex_flow": null,
            "grid_area": null,
            "grid_auto_columns": null,
            "grid_auto_flow": null,
            "grid_auto_rows": null,
            "grid_column": null,
            "grid_gap": null,
            "grid_row": null,
            "grid_template_areas": null,
            "grid_template_columns": null,
            "grid_template_rows": null,
            "height": null,
            "justify_content": null,
            "justify_items": null,
            "left": null,
            "margin": null,
            "max_height": null,
            "max_width": null,
            "min_height": null,
            "min_width": null,
            "object_fit": null,
            "object_position": null,
            "order": null,
            "overflow": null,
            "overflow_x": null,
            "overflow_y": null,
            "padding": null,
            "right": null,
            "top": null,
            "visibility": null,
            "width": null
          }
        },
        "1dbec149e3464e0cbb3081b984fe3650": {
          "model_module": "@jupyter-widgets/controls",
          "model_module_version": "1.5.0",
          "model_name": "HTMLModel",
          "state": {
            "_dom_classes": [],
            "_model_module": "@jupyter-widgets/controls",
            "_model_module_version": "1.5.0",
            "_model_name": "HTMLModel",
            "_view_count": null,
            "_view_module": "@jupyter-widgets/controls",
            "_view_module_version": "1.5.0",
            "_view_name": "HTMLView",
            "description": "",
            "description_tooltip": null,
            "layout": "IPY_MODEL_faacb82279ea410b949e219546eb2180",
            "placeholder": "​",
            "style": "IPY_MODEL_ee96d0b0f59340d88cfaabb77e584373",
            "value": "special_tokens_map.json: 100%"
          }
        },
        "2448097ca14c4b30bfc6bc452fbb4d2f": {
          "model_module": "@jupyter-widgets/base",
          "model_module_version": "1.2.0",
          "model_name": "LayoutModel",
          "state": {
            "_model_module": "@jupyter-widgets/base",
            "_model_module_version": "1.2.0",
            "_model_name": "LayoutModel",
            "_view_count": null,
            "_view_module": "@jupyter-widgets/base",
            "_view_module_version": "1.2.0",
            "_view_name": "LayoutView",
            "align_content": null,
            "align_items": null,
            "align_self": null,
            "border": null,
            "bottom": null,
            "display": null,
            "flex": null,
            "flex_flow": null,
            "grid_area": null,
            "grid_auto_columns": null,
            "grid_auto_flow": null,
            "grid_auto_rows": null,
            "grid_column": null,
            "grid_gap": null,
            "grid_row": null,
            "grid_template_areas": null,
            "grid_template_columns": null,
            "grid_template_rows": null,
            "height": null,
            "justify_content": null,
            "justify_items": null,
            "left": null,
            "margin": null,
            "max_height": null,
            "max_width": null,
            "min_height": null,
            "min_width": null,
            "object_fit": null,
            "object_position": null,
            "order": null,
            "overflow": null,
            "overflow_x": null,
            "overflow_y": null,
            "padding": null,
            "right": null,
            "top": null,
            "visibility": null,
            "width": null
          }
        },
        "25fde5c7c89f4051b9f0d2bbaab40680": {
          "model_module": "@jupyter-widgets/controls",
          "model_module_version": "1.5.0",
          "model_name": "HTMLModel",
          "state": {
            "_dom_classes": [],
            "_model_module": "@jupyter-widgets/controls",
            "_model_module_version": "1.5.0",
            "_model_name": "HTMLModel",
            "_view_count": null,
            "_view_module": "@jupyter-widgets/controls",
            "_view_module_version": "1.5.0",
            "_view_name": "HTMLView",
            "description": "",
            "description_tooltip": null,
            "layout": "IPY_MODEL_86eee74cd94345ffa8715702ade445a5",
            "placeholder": "​",
            "style": "IPY_MODEL_c4ec1f2c71bc44c191d60be9c13bc4b7",
            "value": "Map: 100%"
          }
        },
        "283f1ede2c364c36937f4825951d4786": {
          "model_module": "@jupyter-widgets/base",
          "model_module_version": "1.2.0",
          "model_name": "LayoutModel",
          "state": {
            "_model_module": "@jupyter-widgets/base",
            "_model_module_version": "1.2.0",
            "_model_name": "LayoutModel",
            "_view_count": null,
            "_view_module": "@jupyter-widgets/base",
            "_view_module_version": "1.2.0",
            "_view_name": "LayoutView",
            "align_content": null,
            "align_items": null,
            "align_self": null,
            "border": null,
            "bottom": null,
            "display": null,
            "flex": null,
            "flex_flow": null,
            "grid_area": null,
            "grid_auto_columns": null,
            "grid_auto_flow": null,
            "grid_auto_rows": null,
            "grid_column": null,
            "grid_gap": null,
            "grid_row": null,
            "grid_template_areas": null,
            "grid_template_columns": null,
            "grid_template_rows": null,
            "height": null,
            "justify_content": null,
            "justify_items": null,
            "left": null,
            "margin": null,
            "max_height": null,
            "max_width": null,
            "min_height": null,
            "min_width": null,
            "object_fit": null,
            "object_position": null,
            "order": null,
            "overflow": null,
            "overflow_x": null,
            "overflow_y": null,
            "padding": null,
            "right": null,
            "top": null,
            "visibility": null,
            "width": null
          }
        },
        "2b59925cbedc419498e1d819e8d1a006": {
          "model_module": "@jupyter-widgets/base",
          "model_module_version": "1.2.0",
          "model_name": "LayoutModel",
          "state": {
            "_model_module": "@jupyter-widgets/base",
            "_model_module_version": "1.2.0",
            "_model_name": "LayoutModel",
            "_view_count": null,
            "_view_module": "@jupyter-widgets/base",
            "_view_module_version": "1.2.0",
            "_view_name": "LayoutView",
            "align_content": null,
            "align_items": null,
            "align_self": null,
            "border": null,
            "bottom": null,
            "display": null,
            "flex": null,
            "flex_flow": null,
            "grid_area": null,
            "grid_auto_columns": null,
            "grid_auto_flow": null,
            "grid_auto_rows": null,
            "grid_column": null,
            "grid_gap": null,
            "grid_row": null,
            "grid_template_areas": null,
            "grid_template_columns": null,
            "grid_template_rows": null,
            "height": null,
            "justify_content": null,
            "justify_items": null,
            "left": null,
            "margin": null,
            "max_height": null,
            "max_width": null,
            "min_height": null,
            "min_width": null,
            "object_fit": null,
            "object_position": null,
            "order": null,
            "overflow": null,
            "overflow_x": null,
            "overflow_y": null,
            "padding": null,
            "right": null,
            "top": null,
            "visibility": null,
            "width": null
          }
        },
        "2ee292df48dc460cbbc22b105a92dcfb": {
          "model_module": "@jupyter-widgets/base",
          "model_module_version": "1.2.0",
          "model_name": "LayoutModel",
          "state": {
            "_model_module": "@jupyter-widgets/base",
            "_model_module_version": "1.2.0",
            "_model_name": "LayoutModel",
            "_view_count": null,
            "_view_module": "@jupyter-widgets/base",
            "_view_module_version": "1.2.0",
            "_view_name": "LayoutView",
            "align_content": null,
            "align_items": null,
            "align_self": null,
            "border": null,
            "bottom": null,
            "display": null,
            "flex": null,
            "flex_flow": null,
            "grid_area": null,
            "grid_auto_columns": null,
            "grid_auto_flow": null,
            "grid_auto_rows": null,
            "grid_column": null,
            "grid_gap": null,
            "grid_row": null,
            "grid_template_areas": null,
            "grid_template_columns": null,
            "grid_template_rows": null,
            "height": null,
            "justify_content": null,
            "justify_items": null,
            "left": null,
            "margin": null,
            "max_height": null,
            "max_width": null,
            "min_height": null,
            "min_width": null,
            "object_fit": null,
            "object_position": null,
            "order": null,
            "overflow": null,
            "overflow_x": null,
            "overflow_y": null,
            "padding": null,
            "right": null,
            "top": null,
            "visibility": null,
            "width": null
          }
        },
        "2f2a9a4a30f34725b5f40eaa1e5810c4": {
          "model_module": "@jupyter-widgets/controls",
          "model_module_version": "1.5.0",
          "model_name": "DescriptionStyleModel",
          "state": {
            "_model_module": "@jupyter-widgets/controls",
            "_model_module_version": "1.5.0",
            "_model_name": "DescriptionStyleModel",
            "_view_count": null,
            "_view_module": "@jupyter-widgets/base",
            "_view_module_version": "1.2.0",
            "_view_name": "StyleView",
            "description_width": ""
          }
        },
        "31e60ab8b2e749e3a7af6f36d63c484f": {
          "model_module": "@jupyter-widgets/controls",
          "model_module_version": "1.5.0",
          "model_name": "DescriptionStyleModel",
          "state": {
            "_model_module": "@jupyter-widgets/controls",
            "_model_module_version": "1.5.0",
            "_model_name": "DescriptionStyleModel",
            "_view_count": null,
            "_view_module": "@jupyter-widgets/base",
            "_view_module_version": "1.2.0",
            "_view_name": "StyleView",
            "description_width": ""
          }
        },
        "38ebaabd00c14ca6b20659b4d0af1193": {
          "model_module": "@jupyter-widgets/base",
          "model_module_version": "1.2.0",
          "model_name": "LayoutModel",
          "state": {
            "_model_module": "@jupyter-widgets/base",
            "_model_module_version": "1.2.0",
            "_model_name": "LayoutModel",
            "_view_count": null,
            "_view_module": "@jupyter-widgets/base",
            "_view_module_version": "1.2.0",
            "_view_name": "LayoutView",
            "align_content": null,
            "align_items": null,
            "align_self": null,
            "border": null,
            "bottom": null,
            "display": null,
            "flex": null,
            "flex_flow": null,
            "grid_area": null,
            "grid_auto_columns": null,
            "grid_auto_flow": null,
            "grid_auto_rows": null,
            "grid_column": null,
            "grid_gap": null,
            "grid_row": null,
            "grid_template_areas": null,
            "grid_template_columns": null,
            "grid_template_rows": null,
            "height": null,
            "justify_content": null,
            "justify_items": null,
            "left": null,
            "margin": null,
            "max_height": null,
            "max_width": null,
            "min_height": null,
            "min_width": null,
            "object_fit": null,
            "object_position": null,
            "order": null,
            "overflow": null,
            "overflow_x": null,
            "overflow_y": null,
            "padding": null,
            "right": null,
            "top": null,
            "visibility": null,
            "width": null
          }
        },
        "3956194da5de4aa3bfb8b174dee7aa16": {
          "model_module": "@jupyter-widgets/controls",
          "model_module_version": "1.5.0",
          "model_name": "ProgressStyleModel",
          "state": {
            "_model_module": "@jupyter-widgets/controls",
            "_model_module_version": "1.5.0",
            "_model_name": "ProgressStyleModel",
            "_view_count": null,
            "_view_module": "@jupyter-widgets/base",
            "_view_module_version": "1.2.0",
            "_view_name": "StyleView",
            "bar_color": null,
            "description_width": ""
          }
        },
        "3a75d8029b6a45b0aeeea152ac98aa6e": {
          "model_module": "@jupyter-widgets/controls",
          "model_module_version": "1.5.0",
          "model_name": "HBoxModel",
          "state": {
            "_dom_classes": [],
            "_model_module": "@jupyter-widgets/controls",
            "_model_module_version": "1.5.0",
            "_model_name": "HBoxModel",
            "_view_count": null,
            "_view_module": "@jupyter-widgets/controls",
            "_view_module_version": "1.5.0",
            "_view_name": "HBoxView",
            "box_style": "",
            "children": [
              "IPY_MODEL_b6b26134835b49ab97c24b6d2661e75f",
              "IPY_MODEL_459c2f5e299944f982da5bab9b69f8f6",
              "IPY_MODEL_5606e63f0563411fb1f9ac5358e4a106"
            ],
            "layout": "IPY_MODEL_2b59925cbedc419498e1d819e8d1a006"
          }
        },
        "3af7e6acf940494583a682d8fc87f3e9": {
          "model_module": "@jupyter-widgets/controls",
          "model_module_version": "1.5.0",
          "model_name": "FloatProgressModel",
          "state": {
            "_dom_classes": [],
            "_model_module": "@jupyter-widgets/controls",
            "_model_module_version": "1.5.0",
            "_model_name": "FloatProgressModel",
            "_view_count": null,
            "_view_module": "@jupyter-widgets/controls",
            "_view_module_version": "1.5.0",
            "_view_name": "ProgressView",
            "bar_style": "success",
            "description": "",
            "description_tooltip": null,
            "layout": "IPY_MODEL_6f99a0181cda4da38feda42f5e8581cb",
            "max": 19978,
            "min": 0,
            "orientation": "horizontal",
            "style": "IPY_MODEL_e28fe44565424ce8a36b63be297db509",
            "value": 19978
          }
        },
        "3ce28688eaee4224ac3c41d28f935afe": {
          "model_module": "@jupyter-widgets/base",
          "model_module_version": "1.2.0",
          "model_name": "LayoutModel",
          "state": {
            "_model_module": "@jupyter-widgets/base",
            "_model_module_version": "1.2.0",
            "_model_name": "LayoutModel",
            "_view_count": null,
            "_view_module": "@jupyter-widgets/base",
            "_view_module_version": "1.2.0",
            "_view_name": "LayoutView",
            "align_content": null,
            "align_items": null,
            "align_self": null,
            "border": null,
            "bottom": null,
            "display": null,
            "flex": null,
            "flex_flow": null,
            "grid_area": null,
            "grid_auto_columns": null,
            "grid_auto_flow": null,
            "grid_auto_rows": null,
            "grid_column": null,
            "grid_gap": null,
            "grid_row": null,
            "grid_template_areas": null,
            "grid_template_columns": null,
            "grid_template_rows": null,
            "height": null,
            "justify_content": null,
            "justify_items": null,
            "left": null,
            "margin": null,
            "max_height": null,
            "max_width": null,
            "min_height": null,
            "min_width": null,
            "object_fit": null,
            "object_position": null,
            "order": null,
            "overflow": null,
            "overflow_x": null,
            "overflow_y": null,
            "padding": null,
            "right": null,
            "top": null,
            "visibility": null,
            "width": null
          }
        },
        "3ddb19a6ccb946688478cefb0fec4581": {
          "model_module": "@jupyter-widgets/base",
          "model_module_version": "1.2.0",
          "model_name": "LayoutModel",
          "state": {
            "_model_module": "@jupyter-widgets/base",
            "_model_module_version": "1.2.0",
            "_model_name": "LayoutModel",
            "_view_count": null,
            "_view_module": "@jupyter-widgets/base",
            "_view_module_version": "1.2.0",
            "_view_name": "LayoutView",
            "align_content": null,
            "align_items": null,
            "align_self": null,
            "border": null,
            "bottom": null,
            "display": null,
            "flex": null,
            "flex_flow": null,
            "grid_area": null,
            "grid_auto_columns": null,
            "grid_auto_flow": null,
            "grid_auto_rows": null,
            "grid_column": null,
            "grid_gap": null,
            "grid_row": null,
            "grid_template_areas": null,
            "grid_template_columns": null,
            "grid_template_rows": null,
            "height": null,
            "justify_content": null,
            "justify_items": null,
            "left": null,
            "margin": null,
            "max_height": null,
            "max_width": null,
            "min_height": null,
            "min_width": null,
            "object_fit": null,
            "object_position": null,
            "order": null,
            "overflow": null,
            "overflow_x": null,
            "overflow_y": null,
            "padding": null,
            "right": null,
            "top": null,
            "visibility": null,
            "width": null
          }
        },
        "459c2f5e299944f982da5bab9b69f8f6": {
          "model_module": "@jupyter-widgets/controls",
          "model_module_version": "1.5.0",
          "model_name": "FloatProgressModel",
          "state": {
            "_dom_classes": [],
            "_model_module": "@jupyter-widgets/controls",
            "_model_module_version": "1.5.0",
            "_model_name": "FloatProgressModel",
            "_view_count": null,
            "_view_module": "@jupyter-widgets/controls",
            "_view_module_version": "1.5.0",
            "_view_name": "ProgressView",
            "bar_style": "success",
            "description": "",
            "description_tooltip": null,
            "layout": "IPY_MODEL_c872256601e645318f9bc875b636dcb5",
            "max": 438873130,
            "min": 0,
            "orientation": "horizontal",
            "style": "IPY_MODEL_6fd825b494ae427ba3ed520ed8abcb0c",
            "value": 438873130
          }
        },
        "5606e63f0563411fb1f9ac5358e4a106": {
          "model_module": "@jupyter-widgets/controls",
          "model_module_version": "1.5.0",
          "model_name": "HTMLModel",
          "state": {
            "_dom_classes": [],
            "_model_module": "@jupyter-widgets/controls",
            "_model_module_version": "1.5.0",
            "_model_name": "HTMLModel",
            "_view_count": null,
            "_view_module": "@jupyter-widgets/controls",
            "_view_module_version": "1.5.0",
            "_view_name": "HTMLView",
            "description": "",
            "description_tooltip": null,
            "layout": "IPY_MODEL_2448097ca14c4b30bfc6bc452fbb4d2f",
            "placeholder": "​",
            "style": "IPY_MODEL_cb6ab98c97de45f297999206b1c076f7",
            "value": " 439M/439M [00:03&lt;00:00, 137MB/s]"
          }
        },
        "5be943feacb14176a19f03c10d754166": {
          "model_module": "@jupyter-widgets/base",
          "model_module_version": "1.2.0",
          "model_name": "LayoutModel",
          "state": {
            "_model_module": "@jupyter-widgets/base",
            "_model_module_version": "1.2.0",
            "_model_name": "LayoutModel",
            "_view_count": null,
            "_view_module": "@jupyter-widgets/base",
            "_view_module_version": "1.2.0",
            "_view_name": "LayoutView",
            "align_content": null,
            "align_items": null,
            "align_self": null,
            "border": null,
            "bottom": null,
            "display": null,
            "flex": null,
            "flex_flow": null,
            "grid_area": null,
            "grid_auto_columns": null,
            "grid_auto_flow": null,
            "grid_auto_rows": null,
            "grid_column": null,
            "grid_gap": null,
            "grid_row": null,
            "grid_template_areas": null,
            "grid_template_columns": null,
            "grid_template_rows": null,
            "height": null,
            "justify_content": null,
            "justify_items": null,
            "left": null,
            "margin": null,
            "max_height": null,
            "max_width": null,
            "min_height": null,
            "min_width": null,
            "object_fit": null,
            "object_position": null,
            "order": null,
            "overflow": null,
            "overflow_x": null,
            "overflow_y": null,
            "padding": null,
            "right": null,
            "top": null,
            "visibility": null,
            "width": null
          }
        },
        "5c78e1d630e147ef8764a61c31d97ad5": {
          "model_module": "@jupyter-widgets/base",
          "model_module_version": "1.2.0",
          "model_name": "LayoutModel",
          "state": {
            "_model_module": "@jupyter-widgets/base",
            "_model_module_version": "1.2.0",
            "_model_name": "LayoutModel",
            "_view_count": null,
            "_view_module": "@jupyter-widgets/base",
            "_view_module_version": "1.2.0",
            "_view_name": "LayoutView",
            "align_content": null,
            "align_items": null,
            "align_self": null,
            "border": null,
            "bottom": null,
            "display": null,
            "flex": null,
            "flex_flow": null,
            "grid_area": null,
            "grid_auto_columns": null,
            "grid_auto_flow": null,
            "grid_auto_rows": null,
            "grid_column": null,
            "grid_gap": null,
            "grid_row": null,
            "grid_template_areas": null,
            "grid_template_columns": null,
            "grid_template_rows": null,
            "height": null,
            "justify_content": null,
            "justify_items": null,
            "left": null,
            "margin": null,
            "max_height": null,
            "max_width": null,
            "min_height": null,
            "min_width": null,
            "object_fit": null,
            "object_position": null,
            "order": null,
            "overflow": null,
            "overflow_x": null,
            "overflow_y": null,
            "padding": null,
            "right": null,
            "top": null,
            "visibility": null,
            "width": null
          }
        },
        "652c77547b8a4af5a5c9ee2f5f056734": {
          "model_module": "@jupyter-widgets/controls",
          "model_module_version": "1.5.0",
          "model_name": "HTMLModel",
          "state": {
            "_dom_classes": [],
            "_model_module": "@jupyter-widgets/controls",
            "_model_module_version": "1.5.0",
            "_model_name": "HTMLModel",
            "_view_count": null,
            "_view_module": "@jupyter-widgets/controls",
            "_view_module_version": "1.5.0",
            "_view_name": "HTMLView",
            "description": "",
            "description_tooltip": null,
            "layout": "IPY_MODEL_96f14213fd984a5d86c498582c82d7ee",
            "placeholder": "​",
            "style": "IPY_MODEL_8a23718fcb0345e1ad1eac8800834c74",
            "value": " 19978/19978 [00:08&lt;00:00, 1657.41 examples/s]"
          }
        },
        "68b80eee95fb4f4f932b61da22908e6c": {
          "model_module": "@jupyter-widgets/controls",
          "model_module_version": "1.5.0",
          "model_name": "HBoxModel",
          "state": {
            "_dom_classes": [],
            "_model_module": "@jupyter-widgets/controls",
            "_model_module_version": "1.5.0",
            "_model_name": "HBoxModel",
            "_view_count": null,
            "_view_module": "@jupyter-widgets/controls",
            "_view_module_version": "1.5.0",
            "_view_name": "HBoxView",
            "box_style": "",
            "children": [
              "IPY_MODEL_82a9f0ac78f448b09164c2df2f79bb55",
              "IPY_MODEL_6cffd1c452174e80a13f804d382a7a45",
              "IPY_MODEL_73d487d2ba804ef1adaac9e701d69ff1"
            ],
            "layout": "IPY_MODEL_9954bd0aa251433f9a6b5f5b6da301be"
          }
        },
        "6cffd1c452174e80a13f804d382a7a45": {
          "model_module": "@jupyter-widgets/controls",
          "model_module_version": "1.5.0",
          "model_name": "FloatProgressModel",
          "state": {
            "_dom_classes": [],
            "_model_module": "@jupyter-widgets/controls",
            "_model_module_version": "1.5.0",
            "_model_name": "FloatProgressModel",
            "_view_count": null,
            "_view_module": "@jupyter-widgets/controls",
            "_view_module_version": "1.5.0",
            "_view_name": "ProgressView",
            "bar_style": "success",
            "description": "",
            "description_tooltip": null,
            "layout": "IPY_MODEL_1b463fc528ef453e959b6b001191c395",
            "max": 86,
            "min": 0,
            "orientation": "horizontal",
            "style": "IPY_MODEL_3956194da5de4aa3bfb8b174dee7aa16",
            "value": 86
          }
        },
        "6f99a0181cda4da38feda42f5e8581cb": {
          "model_module": "@jupyter-widgets/base",
          "model_module_version": "1.2.0",
          "model_name": "LayoutModel",
          "state": {
            "_model_module": "@jupyter-widgets/base",
            "_model_module_version": "1.2.0",
            "_model_name": "LayoutModel",
            "_view_count": null,
            "_view_module": "@jupyter-widgets/base",
            "_view_module_version": "1.2.0",
            "_view_name": "LayoutView",
            "align_content": null,
            "align_items": null,
            "align_self": null,
            "border": null,
            "bottom": null,
            "display": null,
            "flex": null,
            "flex_flow": null,
            "grid_area": null,
            "grid_auto_columns": null,
            "grid_auto_flow": null,
            "grid_auto_rows": null,
            "grid_column": null,
            "grid_gap": null,
            "grid_row": null,
            "grid_template_areas": null,
            "grid_template_columns": null,
            "grid_template_rows": null,
            "height": null,
            "justify_content": null,
            "justify_items": null,
            "left": null,
            "margin": null,
            "max_height": null,
            "max_width": null,
            "min_height": null,
            "min_width": null,
            "object_fit": null,
            "object_position": null,
            "order": null,
            "overflow": null,
            "overflow_x": null,
            "overflow_y": null,
            "padding": null,
            "right": null,
            "top": null,
            "visibility": null,
            "width": null
          }
        },
        "6fd825b494ae427ba3ed520ed8abcb0c": {
          "model_module": "@jupyter-widgets/controls",
          "model_module_version": "1.5.0",
          "model_name": "ProgressStyleModel",
          "state": {
            "_model_module": "@jupyter-widgets/controls",
            "_model_module_version": "1.5.0",
            "_model_name": "ProgressStyleModel",
            "_view_count": null,
            "_view_module": "@jupyter-widgets/base",
            "_view_module_version": "1.2.0",
            "_view_name": "StyleView",
            "bar_color": null,
            "description_width": ""
          }
        },
        "71213a49590c4327a95a2496ab658749": {
          "model_module": "@jupyter-widgets/controls",
          "model_module_version": "1.5.0",
          "model_name": "HTMLModel",
          "state": {
            "_dom_classes": [],
            "_model_module": "@jupyter-widgets/controls",
            "_model_module_version": "1.5.0",
            "_model_name": "HTMLModel",
            "_view_count": null,
            "_view_module": "@jupyter-widgets/controls",
            "_view_module_version": "1.5.0",
            "_view_name": "HTMLView",
            "description": "",
            "description_tooltip": null,
            "layout": "IPY_MODEL_38ebaabd00c14ca6b20659b4d0af1193",
            "placeholder": "​",
            "style": "IPY_MODEL_c4f57c8c98d54d6db62dd2d6f9b8639e",
            "value": " 305k/305k [00:00&lt;00:00, 2.64MB/s]"
          }
        },
        "71b0620c01ce46ef94d2c4dbc85b6922": {
          "model_module": "@jupyter-widgets/controls",
          "model_module_version": "1.5.0",
          "model_name": "DescriptionStyleModel",
          "state": {
            "_model_module": "@jupyter-widgets/controls",
            "_model_module_version": "1.5.0",
            "_model_name": "DescriptionStyleModel",
            "_view_count": null,
            "_view_module": "@jupyter-widgets/base",
            "_view_module_version": "1.2.0",
            "_view_name": "StyleView",
            "description_width": ""
          }
        },
        "73a2da60d9e748948b6ddeadbbe99ab3": {
          "model_module": "@jupyter-widgets/controls",
          "model_module_version": "1.5.0",
          "model_name": "DescriptionStyleModel",
          "state": {
            "_model_module": "@jupyter-widgets/controls",
            "_model_module_version": "1.5.0",
            "_model_name": "DescriptionStyleModel",
            "_view_count": null,
            "_view_module": "@jupyter-widgets/base",
            "_view_module_version": "1.2.0",
            "_view_name": "StyleView",
            "description_width": ""
          }
        },
        "73d487d2ba804ef1adaac9e701d69ff1": {
          "model_module": "@jupyter-widgets/controls",
          "model_module_version": "1.5.0",
          "model_name": "HTMLModel",
          "state": {
            "_dom_classes": [],
            "_model_module": "@jupyter-widgets/controls",
            "_model_module_version": "1.5.0",
            "_model_name": "HTMLModel",
            "_view_count": null,
            "_view_module": "@jupyter-widgets/controls",
            "_view_module_version": "1.5.0",
            "_view_name": "HTMLView",
            "description": "",
            "description_tooltip": null,
            "layout": "IPY_MODEL_5be943feacb14176a19f03c10d754166",
            "placeholder": "​",
            "style": "IPY_MODEL_dfd7bceee03e4f639ec3f2f794b70888",
            "value": " 86.0/86.0 [00:00&lt;00:00, 2.24kB/s]"
          }
        },
        "82a9f0ac78f448b09164c2df2f79bb55": {
          "model_module": "@jupyter-widgets/controls",
          "model_module_version": "1.5.0",
          "model_name": "HTMLModel",
          "state": {
            "_dom_classes": [],
            "_model_module": "@jupyter-widgets/controls",
            "_model_module_version": "1.5.0",
            "_model_name": "HTMLModel",
            "_view_count": null,
            "_view_module": "@jupyter-widgets/controls",
            "_view_module_version": "1.5.0",
            "_view_name": "HTMLView",
            "description": "",
            "description_tooltip": null,
            "layout": "IPY_MODEL_fda0569d761f42f5b417b641c207050b",
            "placeholder": "​",
            "style": "IPY_MODEL_2f2a9a4a30f34725b5f40eaa1e5810c4",
            "value": "tokenizer_config.json: 100%"
          }
        },
        "843b3a069d054c2086893b07ff955840": {
          "model_module": "@jupyter-widgets/controls",
          "model_module_version": "1.5.0",
          "model_name": "HBoxModel",
          "state": {
            "_dom_classes": [],
            "_model_module": "@jupyter-widgets/controls",
            "_model_module_version": "1.5.0",
            "_model_name": "HBoxModel",
            "_view_count": null,
            "_view_module": "@jupyter-widgets/controls",
            "_view_module_version": "1.5.0",
            "_view_name": "HBoxView",
            "box_style": "",
            "children": [
              "IPY_MODEL_bc16a7562f3442cda8a854fae6841b95",
              "IPY_MODEL_a6887357bc5f4c82b40cb55b6a84c941",
              "IPY_MODEL_71213a49590c4327a95a2496ab658749"
            ],
            "layout": "IPY_MODEL_a8300f25e5484e89b77f666603e7a95c"
          }
        },
        "86eee74cd94345ffa8715702ade445a5": {
          "model_module": "@jupyter-widgets/base",
          "model_module_version": "1.2.0",
          "model_name": "LayoutModel",
          "state": {
            "_model_module": "@jupyter-widgets/base",
            "_model_module_version": "1.2.0",
            "_model_name": "LayoutModel",
            "_view_count": null,
            "_view_module": "@jupyter-widgets/base",
            "_view_module_version": "1.2.0",
            "_view_name": "LayoutView",
            "align_content": null,
            "align_items": null,
            "align_self": null,
            "border": null,
            "bottom": null,
            "display": null,
            "flex": null,
            "flex_flow": null,
            "grid_area": null,
            "grid_auto_columns": null,
            "grid_auto_flow": null,
            "grid_auto_rows": null,
            "grid_column": null,
            "grid_gap": null,
            "grid_row": null,
            "grid_template_areas": null,
            "grid_template_columns": null,
            "grid_template_rows": null,
            "height": null,
            "justify_content": null,
            "justify_items": null,
            "left": null,
            "margin": null,
            "max_height": null,
            "max_width": null,
            "min_height": null,
            "min_width": null,
            "object_fit": null,
            "object_position": null,
            "order": null,
            "overflow": null,
            "overflow_x": null,
            "overflow_y": null,
            "padding": null,
            "right": null,
            "top": null,
            "visibility": null,
            "width": null
          }
        },
        "8a23718fcb0345e1ad1eac8800834c74": {
          "model_module": "@jupyter-widgets/controls",
          "model_module_version": "1.5.0",
          "model_name": "DescriptionStyleModel",
          "state": {
            "_model_module": "@jupyter-widgets/controls",
            "_model_module_version": "1.5.0",
            "_model_name": "DescriptionStyleModel",
            "_view_count": null,
            "_view_module": "@jupyter-widgets/base",
            "_view_module_version": "1.2.0",
            "_view_name": "StyleView",
            "description_width": ""
          }
        },
        "9128937f678d48ee80ccd10f6e3cc09a": {
          "model_module": "@jupyter-widgets/controls",
          "model_module_version": "1.5.0",
          "model_name": "HBoxModel",
          "state": {
            "_dom_classes": [],
            "_model_module": "@jupyter-widgets/controls",
            "_model_module_version": "1.5.0",
            "_model_name": "HBoxModel",
            "_view_count": null,
            "_view_module": "@jupyter-widgets/controls",
            "_view_module_version": "1.5.0",
            "_view_name": "HBoxView",
            "box_style": "",
            "children": [
              "IPY_MODEL_25fde5c7c89f4051b9f0d2bbaab40680",
              "IPY_MODEL_3af7e6acf940494583a682d8fc87f3e9",
              "IPY_MODEL_652c77547b8a4af5a5c9ee2f5f056734"
            ],
            "layout": "IPY_MODEL_136cdfa388dc43e4ab779092af038281"
          }
        },
        "921bb19071e84330bf1bb850663ef285": {
          "model_module": "@jupyter-widgets/controls",
          "model_module_version": "1.5.0",
          "model_name": "DescriptionStyleModel",
          "state": {
            "_model_module": "@jupyter-widgets/controls",
            "_model_module_version": "1.5.0",
            "_model_name": "DescriptionStyleModel",
            "_view_count": null,
            "_view_module": "@jupyter-widgets/base",
            "_view_module_version": "1.2.0",
            "_view_name": "StyleView",
            "description_width": ""
          }
        },
        "9564fe2efbdb45d2b40cb7c5ad0d822b": {
          "model_module": "@jupyter-widgets/controls",
          "model_module_version": "1.5.0",
          "model_name": "DescriptionStyleModel",
          "state": {
            "_model_module": "@jupyter-widgets/controls",
            "_model_module_version": "1.5.0",
            "_model_name": "DescriptionStyleModel",
            "_view_count": null,
            "_view_module": "@jupyter-widgets/base",
            "_view_module_version": "1.2.0",
            "_view_name": "StyleView",
            "description_width": ""
          }
        },
        "96f14213fd984a5d86c498582c82d7ee": {
          "model_module": "@jupyter-widgets/base",
          "model_module_version": "1.2.0",
          "model_name": "LayoutModel",
          "state": {
            "_model_module": "@jupyter-widgets/base",
            "_model_module_version": "1.2.0",
            "_model_name": "LayoutModel",
            "_view_count": null,
            "_view_module": "@jupyter-widgets/base",
            "_view_module_version": "1.2.0",
            "_view_name": "LayoutView",
            "align_content": null,
            "align_items": null,
            "align_self": null,
            "border": null,
            "bottom": null,
            "display": null,
            "flex": null,
            "flex_flow": null,
            "grid_area": null,
            "grid_auto_columns": null,
            "grid_auto_flow": null,
            "grid_auto_rows": null,
            "grid_column": null,
            "grid_gap": null,
            "grid_row": null,
            "grid_template_areas": null,
            "grid_template_columns": null,
            "grid_template_rows": null,
            "height": null,
            "justify_content": null,
            "justify_items": null,
            "left": null,
            "margin": null,
            "max_height": null,
            "max_width": null,
            "min_height": null,
            "min_width": null,
            "object_fit": null,
            "object_position": null,
            "order": null,
            "overflow": null,
            "overflow_x": null,
            "overflow_y": null,
            "padding": null,
            "right": null,
            "top": null,
            "visibility": null,
            "width": null
          }
        },
        "9954bd0aa251433f9a6b5f5b6da301be": {
          "model_module": "@jupyter-widgets/base",
          "model_module_version": "1.2.0",
          "model_name": "LayoutModel",
          "state": {
            "_model_module": "@jupyter-widgets/base",
            "_model_module_version": "1.2.0",
            "_model_name": "LayoutModel",
            "_view_count": null,
            "_view_module": "@jupyter-widgets/base",
            "_view_module_version": "1.2.0",
            "_view_name": "LayoutView",
            "align_content": null,
            "align_items": null,
            "align_self": null,
            "border": null,
            "bottom": null,
            "display": null,
            "flex": null,
            "flex_flow": null,
            "grid_area": null,
            "grid_auto_columns": null,
            "grid_auto_flow": null,
            "grid_auto_rows": null,
            "grid_column": null,
            "grid_gap": null,
            "grid_row": null,
            "grid_template_areas": null,
            "grid_template_columns": null,
            "grid_template_rows": null,
            "height": null,
            "justify_content": null,
            "justify_items": null,
            "left": null,
            "margin": null,
            "max_height": null,
            "max_width": null,
            "min_height": null,
            "min_width": null,
            "object_fit": null,
            "object_position": null,
            "order": null,
            "overflow": null,
            "overflow_x": null,
            "overflow_y": null,
            "padding": null,
            "right": null,
            "top": null,
            "visibility": null,
            "width": null
          }
        },
        "99ce2825686748b2a7508b81245d2aba": {
          "model_module": "@jupyter-widgets/controls",
          "model_module_version": "1.5.0",
          "model_name": "HTMLModel",
          "state": {
            "_dom_classes": [],
            "_model_module": "@jupyter-widgets/controls",
            "_model_module_version": "1.5.0",
            "_model_name": "HTMLModel",
            "_view_count": null,
            "_view_module": "@jupyter-widgets/controls",
            "_view_module_version": "1.5.0",
            "_view_name": "HTMLView",
            "description": "",
            "description_tooltip": null,
            "layout": "IPY_MODEL_3ddb19a6ccb946688478cefb0fec4581",
            "placeholder": "​",
            "style": "IPY_MODEL_31e60ab8b2e749e3a7af6f36d63c484f",
            "value": " 468/468 [00:00&lt;00:00, 9.50kB/s]"
          }
        },
        "a04e2ceb12a44cce8eb08649731132e0": {
          "model_module": "@jupyter-widgets/base",
          "model_module_version": "1.2.0",
          "model_name": "LayoutModel",
          "state": {
            "_model_module": "@jupyter-widgets/base",
            "_model_module_version": "1.2.0",
            "_model_name": "LayoutModel",
            "_view_count": null,
            "_view_module": "@jupyter-widgets/base",
            "_view_module_version": "1.2.0",
            "_view_name": "LayoutView",
            "align_content": null,
            "align_items": null,
            "align_self": null,
            "border": null,
            "bottom": null,
            "display": null,
            "flex": null,
            "flex_flow": null,
            "grid_area": null,
            "grid_auto_columns": null,
            "grid_auto_flow": null,
            "grid_auto_rows": null,
            "grid_column": null,
            "grid_gap": null,
            "grid_row": null,
            "grid_template_areas": null,
            "grid_template_columns": null,
            "grid_template_rows": null,
            "height": null,
            "justify_content": null,
            "justify_items": null,
            "left": null,
            "margin": null,
            "max_height": null,
            "max_width": null,
            "min_height": null,
            "min_width": null,
            "object_fit": null,
            "object_position": null,
            "order": null,
            "overflow": null,
            "overflow_x": null,
            "overflow_y": null,
            "padding": null,
            "right": null,
            "top": null,
            "visibility": null,
            "width": null
          }
        },
        "a6887357bc5f4c82b40cb55b6a84c941": {
          "model_module": "@jupyter-widgets/controls",
          "model_module_version": "1.5.0",
          "model_name": "FloatProgressModel",
          "state": {
            "_dom_classes": [],
            "_model_module": "@jupyter-widgets/controls",
            "_model_module_version": "1.5.0",
            "_model_name": "FloatProgressModel",
            "_view_count": null,
            "_view_module": "@jupyter-widgets/controls",
            "_view_module_version": "1.5.0",
            "_view_name": "ProgressView",
            "bar_style": "success",
            "description": "",
            "description_tooltip": null,
            "layout": "IPY_MODEL_069eda2997ed4c3e8c489b3c7b89c3de",
            "max": 304561,
            "min": 0,
            "orientation": "horizontal",
            "style": "IPY_MODEL_f26efe0141eb43199ce27e81194643da",
            "value": 304561
          }
        },
        "a8300f25e5484e89b77f666603e7a95c": {
          "model_module": "@jupyter-widgets/base",
          "model_module_version": "1.2.0",
          "model_name": "LayoutModel",
          "state": {
            "_model_module": "@jupyter-widgets/base",
            "_model_module_version": "1.2.0",
            "_model_name": "LayoutModel",
            "_view_count": null,
            "_view_module": "@jupyter-widgets/base",
            "_view_module_version": "1.2.0",
            "_view_name": "LayoutView",
            "align_content": null,
            "align_items": null,
            "align_self": null,
            "border": null,
            "bottom": null,
            "display": null,
            "flex": null,
            "flex_flow": null,
            "grid_area": null,
            "grid_auto_columns": null,
            "grid_auto_flow": null,
            "grid_auto_rows": null,
            "grid_column": null,
            "grid_gap": null,
            "grid_row": null,
            "grid_template_areas": null,
            "grid_template_columns": null,
            "grid_template_rows": null,
            "height": null,
            "justify_content": null,
            "justify_items": null,
            "left": null,
            "margin": null,
            "max_height": null,
            "max_width": null,
            "min_height": null,
            "min_width": null,
            "object_fit": null,
            "object_position": null,
            "order": null,
            "overflow": null,
            "overflow_x": null,
            "overflow_y": null,
            "padding": null,
            "right": null,
            "top": null,
            "visibility": null,
            "width": null
          }
        },
        "ab6821d443b846eea6cee9e2846c9fae": {
          "model_module": "@jupyter-widgets/controls",
          "model_module_version": "1.5.0",
          "model_name": "HBoxModel",
          "state": {
            "_dom_classes": [],
            "_model_module": "@jupyter-widgets/controls",
            "_model_module_version": "1.5.0",
            "_model_name": "HBoxModel",
            "_view_count": null,
            "_view_module": "@jupyter-widgets/controls",
            "_view_module_version": "1.5.0",
            "_view_name": "HBoxView",
            "box_style": "",
            "children": [
              "IPY_MODEL_1dbec149e3464e0cbb3081b984fe3650",
              "IPY_MODEL_b8b2b3e164b248b18048812ef8504743",
              "IPY_MODEL_cbcc07a6126e4baab869d45a6127052d"
            ],
            "layout": "IPY_MODEL_ff78942eec1d492ea398fb0b98db1b1f"
          }
        },
        "b3392f8dd8e2445fac81c005b64de9e1": {
          "model_module": "@jupyter-widgets/base",
          "model_module_version": "1.2.0",
          "model_name": "LayoutModel",
          "state": {
            "_model_module": "@jupyter-widgets/base",
            "_model_module_version": "1.2.0",
            "_model_name": "LayoutModel",
            "_view_count": null,
            "_view_module": "@jupyter-widgets/base",
            "_view_module_version": "1.2.0",
            "_view_name": "LayoutView",
            "align_content": null,
            "align_items": null,
            "align_self": null,
            "border": null,
            "bottom": null,
            "display": null,
            "flex": null,
            "flex_flow": null,
            "grid_area": null,
            "grid_auto_columns": null,
            "grid_auto_flow": null,
            "grid_auto_rows": null,
            "grid_column": null,
            "grid_gap": null,
            "grid_row": null,
            "grid_template_areas": null,
            "grid_template_columns": null,
            "grid_template_rows": null,
            "height": null,
            "justify_content": null,
            "justify_items": null,
            "left": null,
            "margin": null,
            "max_height": null,
            "max_width": null,
            "min_height": null,
            "min_width": null,
            "object_fit": null,
            "object_position": null,
            "order": null,
            "overflow": null,
            "overflow_x": null,
            "overflow_y": null,
            "padding": null,
            "right": null,
            "top": null,
            "visibility": null,
            "width": null
          }
        },
        "b6b26134835b49ab97c24b6d2661e75f": {
          "model_module": "@jupyter-widgets/controls",
          "model_module_version": "1.5.0",
          "model_name": "HTMLModel",
          "state": {
            "_dom_classes": [],
            "_model_module": "@jupyter-widgets/controls",
            "_model_module_version": "1.5.0",
            "_model_name": "HTMLModel",
            "_view_count": null,
            "_view_module": "@jupyter-widgets/controls",
            "_view_module_version": "1.5.0",
            "_view_name": "HTMLView",
            "description": "",
            "description_tooltip": null,
            "layout": "IPY_MODEL_03ea5e331db143f68eab7cb99ea78b40",
            "placeholder": "​",
            "style": "IPY_MODEL_921bb19071e84330bf1bb850663ef285",
            "value": "pytorch_model.bin: 100%"
          }
        },
        "b8b2b3e164b248b18048812ef8504743": {
          "model_module": "@jupyter-widgets/controls",
          "model_module_version": "1.5.0",
          "model_name": "FloatProgressModel",
          "state": {
            "_dom_classes": [],
            "_model_module": "@jupyter-widgets/controls",
            "_model_module_version": "1.5.0",
            "_model_name": "FloatProgressModel",
            "_view_count": null,
            "_view_module": "@jupyter-widgets/controls",
            "_view_module_version": "1.5.0",
            "_view_name": "ProgressView",
            "bar_style": "success",
            "description": "",
            "description_tooltip": null,
            "layout": "IPY_MODEL_283f1ede2c364c36937f4825951d4786",
            "max": 112,
            "min": 0,
            "orientation": "horizontal",
            "style": "IPY_MODEL_d95d5173760a4af791cd8e0155fab02e",
            "value": 112
          }
        },
        "bc16a7562f3442cda8a854fae6841b95": {
          "model_module": "@jupyter-widgets/controls",
          "model_module_version": "1.5.0",
          "model_name": "HTMLModel",
          "state": {
            "_dom_classes": [],
            "_model_module": "@jupyter-widgets/controls",
            "_model_module_version": "1.5.0",
            "_model_name": "HTMLModel",
            "_view_count": null,
            "_view_module": "@jupyter-widgets/controls",
            "_view_module_version": "1.5.0",
            "_view_name": "HTMLView",
            "description": "",
            "description_tooltip": null,
            "layout": "IPY_MODEL_a04e2ceb12a44cce8eb08649731132e0",
            "placeholder": "​",
            "style": "IPY_MODEL_71b0620c01ce46ef94d2c4dbc85b6922",
            "value": "vocab.txt: 100%"
          }
        },
        "c4ec1f2c71bc44c191d60be9c13bc4b7": {
          "model_module": "@jupyter-widgets/controls",
          "model_module_version": "1.5.0",
          "model_name": "DescriptionStyleModel",
          "state": {
            "_model_module": "@jupyter-widgets/controls",
            "_model_module_version": "1.5.0",
            "_model_name": "DescriptionStyleModel",
            "_view_count": null,
            "_view_module": "@jupyter-widgets/base",
            "_view_module_version": "1.2.0",
            "_view_name": "StyleView",
            "description_width": ""
          }
        },
        "c4f57c8c98d54d6db62dd2d6f9b8639e": {
          "model_module": "@jupyter-widgets/controls",
          "model_module_version": "1.5.0",
          "model_name": "DescriptionStyleModel",
          "state": {
            "_model_module": "@jupyter-widgets/controls",
            "_model_module_version": "1.5.0",
            "_model_name": "DescriptionStyleModel",
            "_view_count": null,
            "_view_module": "@jupyter-widgets/base",
            "_view_module_version": "1.2.0",
            "_view_name": "StyleView",
            "description_width": ""
          }
        },
        "c77e8b445b20413ea60cf6e14cc29c4c": {
          "model_module": "@jupyter-widgets/controls",
          "model_module_version": "1.5.0",
          "model_name": "HTMLModel",
          "state": {
            "_dom_classes": [],
            "_model_module": "@jupyter-widgets/controls",
            "_model_module_version": "1.5.0",
            "_model_name": "HTMLModel",
            "_view_count": null,
            "_view_module": "@jupyter-widgets/controls",
            "_view_module_version": "1.5.0",
            "_view_name": "HTMLView",
            "description": "",
            "description_tooltip": null,
            "layout": "IPY_MODEL_f2e09f5e74cc47d0baa710986925e8a6",
            "placeholder": "​",
            "style": "IPY_MODEL_e831d1c5ac3846759a53faaa6d383757",
            "value": "Map: 100%"
          }
        },
        "c872256601e645318f9bc875b636dcb5": {
          "model_module": "@jupyter-widgets/base",
          "model_module_version": "1.2.0",
          "model_name": "LayoutModel",
          "state": {
            "_model_module": "@jupyter-widgets/base",
            "_model_module_version": "1.2.0",
            "_model_name": "LayoutModel",
            "_view_count": null,
            "_view_module": "@jupyter-widgets/base",
            "_view_module_version": "1.2.0",
            "_view_name": "LayoutView",
            "align_content": null,
            "align_items": null,
            "align_self": null,
            "border": null,
            "bottom": null,
            "display": null,
            "flex": null,
            "flex_flow": null,
            "grid_area": null,
            "grid_auto_columns": null,
            "grid_auto_flow": null,
            "grid_auto_rows": null,
            "grid_column": null,
            "grid_gap": null,
            "grid_row": null,
            "grid_template_areas": null,
            "grid_template_columns": null,
            "grid_template_rows": null,
            "height": null,
            "justify_content": null,
            "justify_items": null,
            "left": null,
            "margin": null,
            "max_height": null,
            "max_width": null,
            "min_height": null,
            "min_width": null,
            "object_fit": null,
            "object_position": null,
            "order": null,
            "overflow": null,
            "overflow_x": null,
            "overflow_y": null,
            "padding": null,
            "right": null,
            "top": null,
            "visibility": null,
            "width": null
          }
        },
        "cb6ab98c97de45f297999206b1c076f7": {
          "model_module": "@jupyter-widgets/controls",
          "model_module_version": "1.5.0",
          "model_name": "DescriptionStyleModel",
          "state": {
            "_model_module": "@jupyter-widgets/controls",
            "_model_module_version": "1.5.0",
            "_model_name": "DescriptionStyleModel",
            "_view_count": null,
            "_view_module": "@jupyter-widgets/base",
            "_view_module_version": "1.2.0",
            "_view_name": "StyleView",
            "description_width": ""
          }
        },
        "cbcc07a6126e4baab869d45a6127052d": {
          "model_module": "@jupyter-widgets/controls",
          "model_module_version": "1.5.0",
          "model_name": "HTMLModel",
          "state": {
            "_dom_classes": [],
            "_model_module": "@jupyter-widgets/controls",
            "_model_module_version": "1.5.0",
            "_model_name": "HTMLModel",
            "_view_count": null,
            "_view_module": "@jupyter-widgets/controls",
            "_view_module_version": "1.5.0",
            "_view_name": "HTMLView",
            "description": "",
            "description_tooltip": null,
            "layout": "IPY_MODEL_2ee292df48dc460cbbc22b105a92dcfb",
            "placeholder": "​",
            "style": "IPY_MODEL_9564fe2efbdb45d2b40cb7c5ad0d822b",
            "value": " 112/112 [00:00&lt;00:00, 2.30kB/s]"
          }
        },
        "d10b6c38ec0f4642b6d8039463cd0362": {
          "model_module": "@jupyter-widgets/base",
          "model_module_version": "1.2.0",
          "model_name": "LayoutModel",
          "state": {
            "_model_module": "@jupyter-widgets/base",
            "_model_module_version": "1.2.0",
            "_model_name": "LayoutModel",
            "_view_count": null,
            "_view_module": "@jupyter-widgets/base",
            "_view_module_version": "1.2.0",
            "_view_name": "LayoutView",
            "align_content": null,
            "align_items": null,
            "align_self": null,
            "border": null,
            "bottom": null,
            "display": null,
            "flex": null,
            "flex_flow": null,
            "grid_area": null,
            "grid_auto_columns": null,
            "grid_auto_flow": null,
            "grid_auto_rows": null,
            "grid_column": null,
            "grid_gap": null,
            "grid_row": null,
            "grid_template_areas": null,
            "grid_template_columns": null,
            "grid_template_rows": null,
            "height": null,
            "justify_content": null,
            "justify_items": null,
            "left": null,
            "margin": null,
            "max_height": null,
            "max_width": null,
            "min_height": null,
            "min_width": null,
            "object_fit": null,
            "object_position": null,
            "order": null,
            "overflow": null,
            "overflow_x": null,
            "overflow_y": null,
            "padding": null,
            "right": null,
            "top": null,
            "visibility": null,
            "width": null
          }
        },
        "d95d5173760a4af791cd8e0155fab02e": {
          "model_module": "@jupyter-widgets/controls",
          "model_module_version": "1.5.0",
          "model_name": "ProgressStyleModel",
          "state": {
            "_model_module": "@jupyter-widgets/controls",
            "_model_module_version": "1.5.0",
            "_model_name": "ProgressStyleModel",
            "_view_count": null,
            "_view_module": "@jupyter-widgets/base",
            "_view_module_version": "1.2.0",
            "_view_name": "StyleView",
            "bar_color": null,
            "description_width": ""
          }
        },
        "dc331f1ea30445099d28166755a56038": {
          "model_module": "@jupyter-widgets/controls",
          "model_module_version": "1.5.0",
          "model_name": "HTMLModel",
          "state": {
            "_dom_classes": [],
            "_model_module": "@jupyter-widgets/controls",
            "_model_module_version": "1.5.0",
            "_model_name": "HTMLModel",
            "_view_count": null,
            "_view_module": "@jupyter-widgets/controls",
            "_view_module_version": "1.5.0",
            "_view_name": "HTMLView",
            "description": "",
            "description_tooltip": null,
            "layout": "IPY_MODEL_f3a7cfed56bf462eabf676db3e5538a4",
            "placeholder": "​",
            "style": "IPY_MODEL_e2b853e311e848f490c8fc36139a2968",
            "value": "config.json: 100%"
          }
        },
        "dfd7bceee03e4f639ec3f2f794b70888": {
          "model_module": "@jupyter-widgets/controls",
          "model_module_version": "1.5.0",
          "model_name": "DescriptionStyleModel",
          "state": {
            "_model_module": "@jupyter-widgets/controls",
            "_model_module_version": "1.5.0",
            "_model_name": "DescriptionStyleModel",
            "_view_count": null,
            "_view_module": "@jupyter-widgets/base",
            "_view_module_version": "1.2.0",
            "_view_name": "StyleView",
            "description_width": ""
          }
        },
        "e28fe44565424ce8a36b63be297db509": {
          "model_module": "@jupyter-widgets/controls",
          "model_module_version": "1.5.0",
          "model_name": "ProgressStyleModel",
          "state": {
            "_model_module": "@jupyter-widgets/controls",
            "_model_module_version": "1.5.0",
            "_model_name": "ProgressStyleModel",
            "_view_count": null,
            "_view_module": "@jupyter-widgets/base",
            "_view_module_version": "1.2.0",
            "_view_name": "StyleView",
            "bar_color": null,
            "description_width": ""
          }
        },
        "e2b853e311e848f490c8fc36139a2968": {
          "model_module": "@jupyter-widgets/controls",
          "model_module_version": "1.5.0",
          "model_name": "DescriptionStyleModel",
          "state": {
            "_model_module": "@jupyter-widgets/controls",
            "_model_module_version": "1.5.0",
            "_model_name": "DescriptionStyleModel",
            "_view_count": null,
            "_view_module": "@jupyter-widgets/base",
            "_view_module_version": "1.2.0",
            "_view_name": "StyleView",
            "description_width": ""
          }
        },
        "e46d64a1b84f47d88f6762b8cb81dcf3": {
          "model_module": "@jupyter-widgets/base",
          "model_module_version": "1.2.0",
          "model_name": "LayoutModel",
          "state": {
            "_model_module": "@jupyter-widgets/base",
            "_model_module_version": "1.2.0",
            "_model_name": "LayoutModel",
            "_view_count": null,
            "_view_module": "@jupyter-widgets/base",
            "_view_module_version": "1.2.0",
            "_view_name": "LayoutView",
            "align_content": null,
            "align_items": null,
            "align_self": null,
            "border": null,
            "bottom": null,
            "display": null,
            "flex": null,
            "flex_flow": null,
            "grid_area": null,
            "grid_auto_columns": null,
            "grid_auto_flow": null,
            "grid_auto_rows": null,
            "grid_column": null,
            "grid_gap": null,
            "grid_row": null,
            "grid_template_areas": null,
            "grid_template_columns": null,
            "grid_template_rows": null,
            "height": null,
            "justify_content": null,
            "justify_items": null,
            "left": null,
            "margin": null,
            "max_height": null,
            "max_width": null,
            "min_height": null,
            "min_width": null,
            "object_fit": null,
            "object_position": null,
            "order": null,
            "overflow": null,
            "overflow_x": null,
            "overflow_y": null,
            "padding": null,
            "right": null,
            "top": null,
            "visibility": null,
            "width": null
          }
        },
        "e831d1c5ac3846759a53faaa6d383757": {
          "model_module": "@jupyter-widgets/controls",
          "model_module_version": "1.5.0",
          "model_name": "DescriptionStyleModel",
          "state": {
            "_model_module": "@jupyter-widgets/controls",
            "_model_module_version": "1.5.0",
            "_model_name": "DescriptionStyleModel",
            "_view_count": null,
            "_view_module": "@jupyter-widgets/base",
            "_view_module_version": "1.2.0",
            "_view_name": "StyleView",
            "description_width": ""
          }
        },
        "ee96d0b0f59340d88cfaabb77e584373": {
          "model_module": "@jupyter-widgets/controls",
          "model_module_version": "1.5.0",
          "model_name": "DescriptionStyleModel",
          "state": {
            "_model_module": "@jupyter-widgets/controls",
            "_model_module_version": "1.5.0",
            "_model_name": "DescriptionStyleModel",
            "_view_count": null,
            "_view_module": "@jupyter-widgets/base",
            "_view_module_version": "1.2.0",
            "_view_name": "StyleView",
            "description_width": ""
          }
        },
        "f26efe0141eb43199ce27e81194643da": {
          "model_module": "@jupyter-widgets/controls",
          "model_module_version": "1.5.0",
          "model_name": "ProgressStyleModel",
          "state": {
            "_model_module": "@jupyter-widgets/controls",
            "_model_module_version": "1.5.0",
            "_model_name": "ProgressStyleModel",
            "_view_count": null,
            "_view_module": "@jupyter-widgets/base",
            "_view_module_version": "1.2.0",
            "_view_name": "StyleView",
            "bar_color": null,
            "description_width": ""
          }
        },
        "f2e09f5e74cc47d0baa710986925e8a6": {
          "model_module": "@jupyter-widgets/base",
          "model_module_version": "1.2.0",
          "model_name": "LayoutModel",
          "state": {
            "_model_module": "@jupyter-widgets/base",
            "_model_module_version": "1.2.0",
            "_model_name": "LayoutModel",
            "_view_count": null,
            "_view_module": "@jupyter-widgets/base",
            "_view_module_version": "1.2.0",
            "_view_name": "LayoutView",
            "align_content": null,
            "align_items": null,
            "align_self": null,
            "border": null,
            "bottom": null,
            "display": null,
            "flex": null,
            "flex_flow": null,
            "grid_area": null,
            "grid_auto_columns": null,
            "grid_auto_flow": null,
            "grid_auto_rows": null,
            "grid_column": null,
            "grid_gap": null,
            "grid_row": null,
            "grid_template_areas": null,
            "grid_template_columns": null,
            "grid_template_rows": null,
            "height": null,
            "justify_content": null,
            "justify_items": null,
            "left": null,
            "margin": null,
            "max_height": null,
            "max_width": null,
            "min_height": null,
            "min_width": null,
            "object_fit": null,
            "object_position": null,
            "order": null,
            "overflow": null,
            "overflow_x": null,
            "overflow_y": null,
            "padding": null,
            "right": null,
            "top": null,
            "visibility": null,
            "width": null
          }
        },
        "f3a7cfed56bf462eabf676db3e5538a4": {
          "model_module": "@jupyter-widgets/base",
          "model_module_version": "1.2.0",
          "model_name": "LayoutModel",
          "state": {
            "_model_module": "@jupyter-widgets/base",
            "_model_module_version": "1.2.0",
            "_model_name": "LayoutModel",
            "_view_count": null,
            "_view_module": "@jupyter-widgets/base",
            "_view_module_version": "1.2.0",
            "_view_name": "LayoutView",
            "align_content": null,
            "align_items": null,
            "align_self": null,
            "border": null,
            "bottom": null,
            "display": null,
            "flex": null,
            "flex_flow": null,
            "grid_area": null,
            "grid_auto_columns": null,
            "grid_auto_flow": null,
            "grid_auto_rows": null,
            "grid_column": null,
            "grid_gap": null,
            "grid_row": null,
            "grid_template_areas": null,
            "grid_template_columns": null,
            "grid_template_rows": null,
            "height": null,
            "justify_content": null,
            "justify_items": null,
            "left": null,
            "margin": null,
            "max_height": null,
            "max_width": null,
            "min_height": null,
            "min_width": null,
            "object_fit": null,
            "object_position": null,
            "order": null,
            "overflow": null,
            "overflow_x": null,
            "overflow_y": null,
            "padding": null,
            "right": null,
            "top": null,
            "visibility": null,
            "width": null
          }
        },
        "f5b91da0d86b449eb86fec2248d77e8b": {
          "model_module": "@jupyter-widgets/controls",
          "model_module_version": "1.5.0",
          "model_name": "FloatProgressModel",
          "state": {
            "_dom_classes": [],
            "_model_module": "@jupyter-widgets/controls",
            "_model_module_version": "1.5.0",
            "_model_name": "FloatProgressModel",
            "_view_count": null,
            "_view_module": "@jupyter-widgets/controls",
            "_view_module_version": "1.5.0",
            "_view_name": "ProgressView",
            "bar_style": "success",
            "description": "",
            "description_tooltip": null,
            "layout": "IPY_MODEL_3ce28688eaee4224ac3c41d28f935afe",
            "max": 468,
            "min": 0,
            "orientation": "horizontal",
            "style": "IPY_MODEL_ffbbd774b95b4e358ad3f6958a08bafa",
            "value": 468
          }
        },
        "f60c8e5901eb4df69dd9daa9aa0feeec": {
          "model_module": "@jupyter-widgets/controls",
          "model_module_version": "1.5.0",
          "model_name": "FloatProgressModel",
          "state": {
            "_dom_classes": [],
            "_model_module": "@jupyter-widgets/controls",
            "_model_module_version": "1.5.0",
            "_model_name": "FloatProgressModel",
            "_view_count": null,
            "_view_module": "@jupyter-widgets/controls",
            "_view_module_version": "1.5.0",
            "_view_name": "ProgressView",
            "bar_style": "success",
            "description": "",
            "description_tooltip": null,
            "layout": "IPY_MODEL_d10b6c38ec0f4642b6d8039463cd0362",
            "max": 79912,
            "min": 0,
            "orientation": "horizontal",
            "style": "IPY_MODEL_f7bd284ef2894d7aad08dbcab9ec5c91",
            "value": 79912
          }
        },
        "f7bd284ef2894d7aad08dbcab9ec5c91": {
          "model_module": "@jupyter-widgets/controls",
          "model_module_version": "1.5.0",
          "model_name": "ProgressStyleModel",
          "state": {
            "_model_module": "@jupyter-widgets/controls",
            "_model_module_version": "1.5.0",
            "_model_name": "ProgressStyleModel",
            "_view_count": null,
            "_view_module": "@jupyter-widgets/base",
            "_view_module_version": "1.2.0",
            "_view_name": "StyleView",
            "bar_color": null,
            "description_width": ""
          }
        },
        "faacb82279ea410b949e219546eb2180": {
          "model_module": "@jupyter-widgets/base",
          "model_module_version": "1.2.0",
          "model_name": "LayoutModel",
          "state": {
            "_model_module": "@jupyter-widgets/base",
            "_model_module_version": "1.2.0",
            "_model_name": "LayoutModel",
            "_view_count": null,
            "_view_module": "@jupyter-widgets/base",
            "_view_module_version": "1.2.0",
            "_view_name": "LayoutView",
            "align_content": null,
            "align_items": null,
            "align_self": null,
            "border": null,
            "bottom": null,
            "display": null,
            "flex": null,
            "flex_flow": null,
            "grid_area": null,
            "grid_auto_columns": null,
            "grid_auto_flow": null,
            "grid_auto_rows": null,
            "grid_column": null,
            "grid_gap": null,
            "grid_row": null,
            "grid_template_areas": null,
            "grid_template_columns": null,
            "grid_template_rows": null,
            "height": null,
            "justify_content": null,
            "justify_items": null,
            "left": null,
            "margin": null,
            "max_height": null,
            "max_width": null,
            "min_height": null,
            "min_width": null,
            "object_fit": null,
            "object_position": null,
            "order": null,
            "overflow": null,
            "overflow_x": null,
            "overflow_y": null,
            "padding": null,
            "right": null,
            "top": null,
            "visibility": null,
            "width": null
          }
        },
        "fda0569d761f42f5b417b641c207050b": {
          "model_module": "@jupyter-widgets/base",
          "model_module_version": "1.2.0",
          "model_name": "LayoutModel",
          "state": {
            "_model_module": "@jupyter-widgets/base",
            "_model_module_version": "1.2.0",
            "_model_name": "LayoutModel",
            "_view_count": null,
            "_view_module": "@jupyter-widgets/base",
            "_view_module_version": "1.2.0",
            "_view_name": "LayoutView",
            "align_content": null,
            "align_items": null,
            "align_self": null,
            "border": null,
            "bottom": null,
            "display": null,
            "flex": null,
            "flex_flow": null,
            "grid_area": null,
            "grid_auto_columns": null,
            "grid_auto_flow": null,
            "grid_auto_rows": null,
            "grid_column": null,
            "grid_gap": null,
            "grid_row": null,
            "grid_template_areas": null,
            "grid_template_columns": null,
            "grid_template_rows": null,
            "height": null,
            "justify_content": null,
            "justify_items": null,
            "left": null,
            "margin": null,
            "max_height": null,
            "max_width": null,
            "min_height": null,
            "min_width": null,
            "object_fit": null,
            "object_position": null,
            "order": null,
            "overflow": null,
            "overflow_x": null,
            "overflow_y": null,
            "padding": null,
            "right": null,
            "top": null,
            "visibility": null,
            "width": null
          }
        },
        "ff78942eec1d492ea398fb0b98db1b1f": {
          "model_module": "@jupyter-widgets/base",
          "model_module_version": "1.2.0",
          "model_name": "LayoutModel",
          "state": {
            "_model_module": "@jupyter-widgets/base",
            "_model_module_version": "1.2.0",
            "_model_name": "LayoutModel",
            "_view_count": null,
            "_view_module": "@jupyter-widgets/base",
            "_view_module_version": "1.2.0",
            "_view_name": "LayoutView",
            "align_content": null,
            "align_items": null,
            "align_self": null,
            "border": null,
            "bottom": null,
            "display": null,
            "flex": null,
            "flex_flow": null,
            "grid_area": null,
            "grid_auto_columns": null,
            "grid_auto_flow": null,
            "grid_auto_rows": null,
            "grid_column": null,
            "grid_gap": null,
            "grid_row": null,
            "grid_template_areas": null,
            "grid_template_columns": null,
            "grid_template_rows": null,
            "height": null,
            "justify_content": null,
            "justify_items": null,
            "left": null,
            "margin": null,
            "max_height": null,
            "max_width": null,
            "min_height": null,
            "min_width": null,
            "object_fit": null,
            "object_position": null,
            "order": null,
            "overflow": null,
            "overflow_x": null,
            "overflow_y": null,
            "padding": null,
            "right": null,
            "top": null,
            "visibility": null,
            "width": null
          }
        },
        "ffbbd774b95b4e358ad3f6958a08bafa": {
          "model_module": "@jupyter-widgets/controls",
          "model_module_version": "1.5.0",
          "model_name": "ProgressStyleModel",
          "state": {
            "_model_module": "@jupyter-widgets/controls",
            "_model_module_version": "1.5.0",
            "_model_name": "ProgressStyleModel",
            "_view_count": null,
            "_view_module": "@jupyter-widgets/base",
            "_view_module_version": "1.2.0",
            "_view_name": "StyleView",
            "bar_color": null,
            "description_width": ""
          }
        }
      }
    }
  },
  "nbformat": 4,
  "nbformat_minor": 0
}